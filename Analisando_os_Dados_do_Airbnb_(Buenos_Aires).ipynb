{
  "nbformat": 4,
  "nbformat_minor": 0,
  "metadata": {
    "colab": {
      "name": "Analisando os Dados do Airbnb (Buenos Aires)",
      "provenance": [],
      "collapsed_sections": [],
      "toc_visible": true,
      "authorship_tag": "ABX9TyPF+AlNKUSC4Eayy/RlpmXI",
      "include_colab_link": true
    },
    "kernelspec": {
      "display_name": "Python 3",
      "name": "python3"
    }
  },
  "cells": [
    {
      "cell_type": "markdown",
      "metadata": {
        "id": "view-in-github",
        "colab_type": "text"
      },
      "source": [
        "<a href=\"https://colab.research.google.com/github/geovanemelo/Consultorio_psicologia/blob/master/Analisando_os_Dados_do_Airbnb_(Buenos_Aires).ipynb\" target=\"_parent\"><img src=\"https://colab.research.google.com/assets/colab-badge.svg\" alt=\"Open In Colab\"/></a>"
      ]
    },
    {
      "cell_type": "markdown",
      "metadata": {
        "id": "I4YkvProj0SM"
      },
      "source": [
        "### **Data Science na Prática**\r\n",
        "*by [Geovane Melo](https://www.linkedin.com/in/geovane-melo-da-silva-105040147/)*\r\n",
        "\r\n",
        "---\r\n",
        "\r\n",
        "\r\n",
        "\r\n",
        "# Análise dos Dados do Airbnb - Buenos Aires\r\n",
        "\r\n",
        "O [Airbnb](https://www.airbnb.com.br/), fundado em 2008 em São Fransisco, na California vem inovando na forma de se hospedar de turistas do mundo inteiro, e a empresa se tornou hoje em dia referência no ramo de hospedagem mesmo **sem ter nenhum hotel!**\r\n",
        "\r\n",
        "Anfitriões oferecem seus imóveis de maneira prática na plataforma e se conectam com turistas que preferem ter o seu *cantinho* do que a um tradicional hotel no seu momento de relaxamento.\r\n",
        "\r\n",
        "Com seu jeito peculiar e inovador, no final de 2018, a empresa americana já havia hospedado **mais de 300 milhões** de pessoas em todos os cantos do mundo, e vem sendo cada vez mais procurada, por hóspedes e anfitriões.\r\n",
        "\r\n",
        "A empresa tem como iniciativa, disponibilizar alguns dados de hospedagem das maiores cidades do mundo. Atráves do portal [Inside Airbnb](http://insideairbnb.com/get-the-data.html), é possivel ter acesso á uma quantidade de dados incriveis, onde se pode baixar e desenvolver projetos e soluções de *Data Science*.\r\n",
        "\r\n",
        "<center><img alt=\"Analisando Airbnb\" width=\"10%\" src=\"https://www.area360.com.au/wp-content/uploads/2017/09/airbnb-logo.jpg\"></center>\r\n",
        "\r\n",
        "**Neste *notebook*, iremos analisar os dados referentes à cidade de Buenos Aires, e ver quais insights podem ser extraídos a partir de dados brutos.**"
      ]
    },
    {
      "cell_type": "markdown",
      "metadata": {
        "id": "l5To14k2kp8J"
      },
      "source": [
        "## Obtenção dos Dados\r\n",
        "\r\n",
        "Os dados usados nesse estudos foram retirado do portal [Inside Airbnb](http://insideairbnb.com/get-the-data.html).\r\n",
        "\r\n",
        "O inside AirBnB é um independente e não-comercial conjunto de ferramentas e dados. \r\n",
        "O portal permite que você explore a forma que o AirBnB trabalha e inova em todo planeta.\r\n",
        "\r\n",
        "O portal [Inside Airbnb](http://insideairbnb.com/get-the-data.html) não é associado ao AirBnB ou qualquer outro concorrente. Para mais informações sobre o portal clique [aqui](http://insideairbnb.com/behind.html).\r\n",
        "\r\n",
        "Com intuito de uma análise explorátoria inicial, apenas o seguinte arquivo será utilizado:\r\n",
        "\r\n",
        "* `listings.csv` - *Summary information and metrics for listings in Buenos Aires (good for visualisations).*"
      ]
    },
    {
      "cell_type": "code",
      "metadata": {
        "id": "Q-Lz-RS_lNew"
      },
      "source": [
        "# importando os pacotes necessários\r\n",
        "\r\n",
        "import pandas as pd\r\n",
        "import matplotlib.pyplot as plt\r\n",
        "import seaborn as sns\r\n",
        "\r\n",
        "%matplotlib inline"
      ],
      "execution_count": null,
      "outputs": []
    },
    {
      "cell_type": "code",
      "metadata": {
        "id": "0wfx7Jv1lHDG"
      },
      "source": [
        "# importando o arquivo listings.csv para um DataFrame\r\n",
        "\r\n",
        "df = pd.read_csv(\"http://data.insideairbnb.com/argentina/ciudad-aut%C3%B3noma-de-buenos-aires/buenos-aires/2020-12-24/visualisations/listings.csv\")"
      ],
      "execution_count": null,
      "outputs": []
    },
    {
      "cell_type": "markdown",
      "metadata": {
        "id": "pcsvep0WmC74"
      },
      "source": [
        "# Análise dos Dados\r\n",
        "\r\n",
        "Etapa de entendimento inicial, com intuito de compreender a forma que os dados estão estruturados."
      ]
    },
    {
      "cell_type": "markdown",
      "metadata": {
        "id": "ozk_6GLlmKmG"
      },
      "source": [
        "**Dicionário das variáveis**\r\n",
        "\r\n",
        "*entenda o que representa cada coluna*\r\n",
        "\r\n",
        "* `id` - Numero gerado automaticamente para identificação do imóvel\r\n",
        "* `name` - Título do anuncio feito\r\n",
        "* `host_id` - id do anfitrião da propriedade\r\n",
        "* `host_name` - Primeiro nome do anfitrião\r\n",
        "* `neighbourhood_group` - Está coluna não contém valores válidos\r\n",
        "* `neighbourhood` - nome do bairro\r\n",
        "* `latitude` - coordenada da latitude da propriedade\r\n",
        "* `longitude` - coordenada da longitude da propriedade\r\n",
        "* `room_type` - informa o tipo de quarto que é oferecido\r\n",
        "* `price` - preço para alugar o imóvel (*em real brasileiro)\r\n",
        "* `minimum_nights` - quantidade mínima de noites para reservar\r\n",
        "* `number_of_reviews` - número de reviews que a propriedade possui\r\n",
        "* `last_review` - data do último review\r\n",
        "* `reviews_per_month` - quantidade de reviews por mês\r\n",
        "* `calculated_host_listings_count` - quantidade de imóveis do mesmo anfitrião\r\n",
        "* `availability_365` - número de dias de disponibilidade dentro de 365 dias\r\n",
        "\r\n",
        "*obs: foi feita a conversão de moedas de peso argentino para real brasileiro. em 01/01/2012 a cotação é : \r\n",
        "1,00 Real brasileiro é igual a 15,99 Peso argentino*\r\n",
        "\r\n",
        "Começaremos verificando a \"cara\" do nosso *dataset*, analisando as 5 primeiras entradas.\r\n"
      ]
    },
    {
      "cell_type": "code",
      "metadata": {
        "id": "q7FKuOV0YN1O"
      },
      "source": [
        "#conversão na coluna price de peso para real\r\n",
        "\r\n",
        "df.price = round(df.price / 15.99,2)"
      ],
      "execution_count": null,
      "outputs": []
    },
    {
      "cell_type": "code",
      "metadata": {
        "colab": {
          "base_uri": "https://localhost:8080/",
          "height": 598
        },
        "id": "1qFcB_mrmcJQ",
        "outputId": "219db552-db94-456d-a153-936cf14056b5"
      },
      "source": [
        "# mostrar as 5 primeiras entradas\r\n",
        "df.head()"
      ],
      "execution_count": null,
      "outputs": [
        {
          "output_type": "execute_result",
          "data": {
            "text/html": [
              "<div>\n",
              "<style scoped>\n",
              "    .dataframe tbody tr th:only-of-type {\n",
              "        vertical-align: middle;\n",
              "    }\n",
              "\n",
              "    .dataframe tbody tr th {\n",
              "        vertical-align: top;\n",
              "    }\n",
              "\n",
              "    .dataframe thead th {\n",
              "        text-align: right;\n",
              "    }\n",
              "</style>\n",
              "<table border=\"1\" class=\"dataframe\">\n",
              "  <thead>\n",
              "    <tr style=\"text-align: right;\">\n",
              "      <th></th>\n",
              "      <th>id</th>\n",
              "      <th>name</th>\n",
              "      <th>host_id</th>\n",
              "      <th>host_name</th>\n",
              "      <th>neighbourhood_group</th>\n",
              "      <th>neighbourhood</th>\n",
              "      <th>latitude</th>\n",
              "      <th>longitude</th>\n",
              "      <th>room_type</th>\n",
              "      <th>price</th>\n",
              "      <th>minimum_nights</th>\n",
              "      <th>number_of_reviews</th>\n",
              "      <th>last_review</th>\n",
              "      <th>reviews_per_month</th>\n",
              "      <th>calculated_host_listings_count</th>\n",
              "      <th>availability_365</th>\n",
              "    </tr>\n",
              "  </thead>\n",
              "  <tbody>\n",
              "    <tr>\n",
              "      <th>0</th>\n",
              "      <td>11508</td>\n",
              "      <td>Amazing Luxurious Apt-Palermo Soho</td>\n",
              "      <td>42762</td>\n",
              "      <td>Candela</td>\n",
              "      <td>NaN</td>\n",
              "      <td>Palermo</td>\n",
              "      <td>-34.58184</td>\n",
              "      <td>-58.42415</td>\n",
              "      <td>Entire home/apt</td>\n",
              "      <td>312.57</td>\n",
              "      <td>2</td>\n",
              "      <td>26</td>\n",
              "      <td>2019-11-28</td>\n",
              "      <td>0.25</td>\n",
              "      <td>1</td>\n",
              "      <td>0</td>\n",
              "    </tr>\n",
              "    <tr>\n",
              "      <th>1</th>\n",
              "      <td>12463</td>\n",
              "      <td>Room in Recoleta - awesome location</td>\n",
              "      <td>48799</td>\n",
              "      <td>Matt</td>\n",
              "      <td>NaN</td>\n",
              "      <td>Recoleta</td>\n",
              "      <td>-34.59761</td>\n",
              "      <td>-58.39468</td>\n",
              "      <td>Private room</td>\n",
              "      <td>140.65</td>\n",
              "      <td>1</td>\n",
              "      <td>20</td>\n",
              "      <td>2017-12-11</td>\n",
              "      <td>0.15</td>\n",
              "      <td>1</td>\n",
              "      <td>365</td>\n",
              "    </tr>\n",
              "    <tr>\n",
              "      <th>2</th>\n",
              "      <td>13095</td>\n",
              "      <td>Standard Room at Palermo Viejo B&amp;B w pvt Bath</td>\n",
              "      <td>50994</td>\n",
              "      <td>Ariel</td>\n",
              "      <td>NaN</td>\n",
              "      <td>Palermo</td>\n",
              "      <td>-34.59348</td>\n",
              "      <td>-58.42949</td>\n",
              "      <td>Private room</td>\n",
              "      <td>156.29</td>\n",
              "      <td>1</td>\n",
              "      <td>1</td>\n",
              "      <td>2018-12-18</td>\n",
              "      <td>0.04</td>\n",
              "      <td>7</td>\n",
              "      <td>365</td>\n",
              "    </tr>\n",
              "    <tr>\n",
              "      <th>3</th>\n",
              "      <td>13096</td>\n",
              "      <td>Standard Room in Palermo Viejo B&amp;B</td>\n",
              "      <td>50994</td>\n",
              "      <td>Ariel</td>\n",
              "      <td>NaN</td>\n",
              "      <td>Palermo</td>\n",
              "      <td>-34.59348</td>\n",
              "      <td>-58.42949</td>\n",
              "      <td>Private room</td>\n",
              "      <td>156.29</td>\n",
              "      <td>1</td>\n",
              "      <td>0</td>\n",
              "      <td>NaN</td>\n",
              "      <td>NaN</td>\n",
              "      <td>7</td>\n",
              "      <td>365</td>\n",
              "    </tr>\n",
              "    <tr>\n",
              "      <th>4</th>\n",
              "      <td>13097</td>\n",
              "      <td>Standard Room at Palermo Viejo B&amp;B pvt bath</td>\n",
              "      <td>50994</td>\n",
              "      <td>Ariel</td>\n",
              "      <td>NaN</td>\n",
              "      <td>Palermo</td>\n",
              "      <td>-34.59348</td>\n",
              "      <td>-58.42949</td>\n",
              "      <td>Private room</td>\n",
              "      <td>156.29</td>\n",
              "      <td>1</td>\n",
              "      <td>10</td>\n",
              "      <td>2019-11-27</td>\n",
              "      <td>0.44</td>\n",
              "      <td>7</td>\n",
              "      <td>0</td>\n",
              "    </tr>\n",
              "  </tbody>\n",
              "</table>\n",
              "</div>"
            ],
            "text/plain": [
              "      id  ... availability_365\n",
              "0  11508  ...                0\n",
              "1  12463  ...              365\n",
              "2  13095  ...              365\n",
              "3  13096  ...              365\n",
              "4  13097  ...                0\n",
              "\n",
              "[5 rows x 16 columns]"
            ]
          },
          "metadata": {
            "tags": []
          },
          "execution_count": 4
        }
      ]
    },
    {
      "cell_type": "markdown",
      "metadata": {
        "id": "uK77LbF7HnyF"
      },
      "source": [
        "### **Q1. Quantos atributos e quantas entradas o nosso conjunto de dados possui? Quais os tipos das variáveis?**\r\n",
        "\r\n",
        "Nessa parte, iremos identficar a quantidade de entradas e variáveis do *dataset* e apontar seus tipos em cada coluna.\r\n",
        "\r\n",
        "Lembrando que: esse conjuntos de dados é a versão 'resumida'. Na mesma página temos a versão completa com 35847 e 106 variáveis (`listings.csv.gz`)\r\n",
        "\r\n"
      ]
    },
    {
      "cell_type": "code",
      "metadata": {
        "colab": {
          "base_uri": "https://localhost:8080/",
          "height": 340
        },
        "id": "bbyOvccHHrkC",
        "outputId": "961966f5-8b7e-4897-d289-bb64c2cb2a8d"
      },
      "source": [
        "# identificando o volume de dados do DataFrame\r\n",
        "print(\"Entradas:\\t {}\".format (df.shape[0]))\r\n",
        "print(\"Variáveis:\\t {}\".format(df.shape[1]))\r\n",
        "\r\n",
        "# verificando os tipos de variáveis do dataset\r\n",
        "\r\n",
        "display(df.dtypes)"
      ],
      "execution_count": null,
      "outputs": [
        {
          "output_type": "stream",
          "text": [
            "Entradas:\t 20636\n",
            "Variáveis:\t 16\n"
          ],
          "name": "stdout"
        },
        {
          "output_type": "display_data",
          "data": {
            "text/plain": [
              "id                                  int64\n",
              "name                               object\n",
              "host_id                             int64\n",
              "host_name                          object\n",
              "neighbourhood_group               float64\n",
              "neighbourhood                      object\n",
              "latitude                          float64\n",
              "longitude                         float64\n",
              "room_type                          object\n",
              "price                             float64\n",
              "minimum_nights                      int64\n",
              "number_of_reviews                   int64\n",
              "last_review                        object\n",
              "reviews_per_month                 float64\n",
              "calculated_host_listings_count      int64\n",
              "availability_365                    int64\n",
              "dtype: object"
            ]
          },
          "metadata": {
            "tags": []
          }
        }
      ]
    },
    {
      "cell_type": "markdown",
      "metadata": {
        "id": "Y-lmJSRlH5b7"
      },
      "source": [
        "\r\n",
        "Nosso *dataset* contém **20636 entradas** (ou linhas) e **16 variáveis** (ou colunas)\r\n",
        "\r\n",
        "Os três tipos de variaveis são: \r\n",
        "\r\n",
        "*   *int64* (números inteiros)\r\n",
        "*   *float64* (números decimais)\r\n",
        "*   *object* (texto)\r\n",
        "\r\n",
        "\r\n",
        "\r\n"
      ]
    },
    {
      "cell_type": "markdown",
      "metadata": {
        "id": "ngUFH6stL7k4"
      },
      "source": [
        "### **Q2. Qual a porcetagem de valores ausentes no dataset?**\r\n",
        "\r\n",
        "Os valores ausentes interferem diretamente na qualidade do *dateset*. Por isso, no início devemos nos questionar se os valores nulos são significativos em comparação as entradas totais.\r\n",
        "\r\n",
        "\r\n",
        "\r\n",
        "\r\n",
        "\r\n",
        "\r\n"
      ]
    },
    {
      "cell_type": "code",
      "metadata": {
        "colab": {
          "base_uri": "https://localhost:8080/"
        },
        "id": "ikk2gps9Mfsz",
        "outputId": "5b80cb16-a090-451a-97e1-5d52dcbcd2c5"
      },
      "source": [
        "# Ordenando em ordem decrescente as variáveis por seus valores ausentes\r\n",
        "\r\n",
        "round((df.isnull().sum() / df.shape[0]).sort_values(ascending=False),4)"
      ],
      "execution_count": null,
      "outputs": [
        {
          "output_type": "execute_result",
          "data": {
            "text/plain": [
              "neighbourhood_group               1.0000\n",
              "reviews_per_month                 0.3007\n",
              "last_review                       0.3007\n",
              "name                              0.0002\n",
              "host_name                         0.0002\n",
              "availability_365                  0.0000\n",
              "calculated_host_listings_count    0.0000\n",
              "number_of_reviews                 0.0000\n",
              "minimum_nights                    0.0000\n",
              "price                             0.0000\n",
              "room_type                         0.0000\n",
              "longitude                         0.0000\n",
              "latitude                          0.0000\n",
              "neighbourhood                     0.0000\n",
              "host_id                           0.0000\n",
              "id                                0.0000\n",
              "dtype: float64"
            ]
          },
          "metadata": {
            "tags": []
          },
          "execution_count": 6
        }
      ]
    },
    {
      "cell_type": "markdown",
      "metadata": {
        "id": "cl5YDnTAO0zU"
      },
      "source": [
        "\r\n",
        "A partir da porcetagem de dados ausentes de cada váriavel é possível confirmar que:\r\n",
        "\r\n",
        "\r\n",
        "*   A coluna `neighbourhood_group` possui 100% de valores faltantes\r\n",
        "*   As variáveis `reviews_per_month` e `last_review` possuem 30% de valores nulos\r\n",
        "*   As variáveis `name` e `host_name` possui pouquissimas linhas faltantes\r\n",
        "*  As variáveis restantes das citadas acima estão 100% preenchidas\r\n"
      ]
    },
    {
      "cell_type": "markdown",
      "metadata": {
        "id": "Pisbu6OLPqXP"
      },
      "source": [
        "### **Q3. Qual o tipo de distribuição das variáveis?**\r\n",
        "\r\n",
        "A fim de identificação da distribuição das variáveis, iremos plotar histogramas, nos quais serão possíveis analisar as distribuições e responder nossa questão\r\n"
      ]
    },
    {
      "cell_type": "code",
      "metadata": {
        "colab": {
          "base_uri": "https://localhost:8080/",
          "height": 607
        },
        "id": "UK5Jm4J9QLxd",
        "outputId": "ae7fd61b-7c86-44cf-fd35-dd34778093c2"
      },
      "source": [
        "# plotar o histograma das variávies numéricas\r\n",
        "\r\n",
        "df.hist(bins=15,figsize=(15,10));"
      ],
      "execution_count": null,
      "outputs": [
        {
          "output_type": "display_data",
          "data": {
            "image/png": "[encoded data removed]",
            "text/plain": [
              "<Figure size 1080x720 with 12 Axes>"
            ]
          },
          "metadata": {
            "tags": [],
            "needs_background": "light"
          }
        }
      ]
    },
    {
      "cell_type": "markdown",
      "metadata": {
        "id": "Z-cSVItERWsd"
      },
      "source": [
        "\r\n",
        "A partir da análise dos gráficos é possível confirmar que:\r\n",
        "\r\n",
        "*   Em `availability_365` pode se dizer que grande parte dos alojamentos estão disponíveis o ano inteiro (365 dias)\r\n",
        "*   Nos gráficos de `price`, `minimum_nights` e `calculated_host_listing_count` há fortes índicios de *outliers* presentes.(trabalharemos mais a fundo na próxima questão)\r\n",
        "*   Os gráficos restantes dos citados acimas não apresentam informações relevantes ou notórias nesse tipo de representação.\r\n",
        "\r\n",
        "\r\n"
      ]
    },
    {
      "cell_type": "markdown",
      "metadata": {
        "id": "cqEejSuESwNh"
      },
      "source": [
        "### **Q4. Há outliers presentes?**\r\n",
        "\r\n",
        "Após a plotagem dos histogramas, foi capaz de se verificar indícios de *outliers*. Por exemplo nas variáveis: `price`,`minimum_nights` e `calculated_host_listing_count`\r\n",
        "\r\n",
        "Os valores por não seguirem uma distribuição, distorcem toda represetanção gráfica. Existem dois metódos que ajudam na detecção de *outlieres*, são eles:\r\n",
        "\r\n",
        "  \r\n",
        "\r\n",
        "*   Resumo estatísco por meio do método `describe()`\r\n",
        "*   Plotar `boxplots` p/ a variável"
      ]
    },
    {
      "cell_type": "code",
      "metadata": {
        "colab": {
          "base_uri": "https://localhost:8080/",
          "height": 317
        },
        "id": "PbHxK6GqTo9U",
        "outputId": "332afdf6-c129-47a1-9078-9d290dd63b0f"
      },
      "source": [
        " #Vendo o resumo estatísco das variáveis numéricas\r\n",
        "df[['price','minimum_nights', 'number_of_reviews', 'reviews_per_month','calculated_host_listings_count' ,'availability_365']].describe()"
      ],
      "execution_count": null,
      "outputs": [
        {
          "output_type": "execute_result",
          "data": {
            "text/html": [
              "<div>\n",
              "<style scoped>\n",
              "    .dataframe tbody tr th:only-of-type {\n",
              "        vertical-align: middle;\n",
              "    }\n",
              "\n",
              "    .dataframe tbody tr th {\n",
              "        vertical-align: top;\n",
              "    }\n",
              "\n",
              "    .dataframe thead th {\n",
              "        text-align: right;\n",
              "    }\n",
              "</style>\n",
              "<table border=\"1\" class=\"dataframe\">\n",
              "  <thead>\n",
              "    <tr style=\"text-align: right;\">\n",
              "      <th></th>\n",
              "      <th>price</th>\n",
              "      <th>minimum_nights</th>\n",
              "      <th>number_of_reviews</th>\n",
              "      <th>reviews_per_month</th>\n",
              "      <th>calculated_host_listings_count</th>\n",
              "      <th>availability_365</th>\n",
              "    </tr>\n",
              "  </thead>\n",
              "  <tbody>\n",
              "    <tr>\n",
              "      <th>count</th>\n",
              "      <td>20636.000000</td>\n",
              "      <td>20636.000000</td>\n",
              "      <td>20636.000000</td>\n",
              "      <td>14431.000000</td>\n",
              "      <td>20636.000000</td>\n",
              "      <td>20636.000000</td>\n",
              "    </tr>\n",
              "    <tr>\n",
              "      <th>mean</th>\n",
              "      <td>301.499124</td>\n",
              "      <td>6.441316</td>\n",
              "      <td>16.460845</td>\n",
              "      <td>0.699708</td>\n",
              "      <td>7.522873</td>\n",
              "      <td>231.519626</td>\n",
              "    </tr>\n",
              "    <tr>\n",
              "      <th>std</th>\n",
              "      <td>3837.693565</td>\n",
              "      <td>19.423860</td>\n",
              "      <td>33.570021</td>\n",
              "      <td>0.833883</td>\n",
              "      <td>17.278160</td>\n",
              "      <td>130.819993</td>\n",
              "    </tr>\n",
              "    <tr>\n",
              "      <th>min</th>\n",
              "      <td>0.000000</td>\n",
              "      <td>1.000000</td>\n",
              "      <td>0.000000</td>\n",
              "      <td>0.010000</td>\n",
              "      <td>1.000000</td>\n",
              "      <td>0.000000</td>\n",
              "    </tr>\n",
              "    <tr>\n",
              "      <th>25%</th>\n",
              "      <td>99.000000</td>\n",
              "      <td>2.000000</td>\n",
              "      <td>0.000000</td>\n",
              "      <td>0.140000</td>\n",
              "      <td>1.000000</td>\n",
              "      <td>90.000000</td>\n",
              "    </tr>\n",
              "    <tr>\n",
              "      <th>50%</th>\n",
              "      <td>156.290000</td>\n",
              "      <td>3.000000</td>\n",
              "      <td>3.000000</td>\n",
              "      <td>0.390000</td>\n",
              "      <td>2.000000</td>\n",
              "      <td>267.500000</td>\n",
              "    </tr>\n",
              "    <tr>\n",
              "      <th>75%</th>\n",
              "      <td>250.030000</td>\n",
              "      <td>5.000000</td>\n",
              "      <td>17.000000</td>\n",
              "      <td>0.955000</td>\n",
              "      <td>4.000000</td>\n",
              "      <td>364.000000</td>\n",
              "    </tr>\n",
              "    <tr>\n",
              "      <th>max</th>\n",
              "      <td>520929.270000</td>\n",
              "      <td>1100.000000</td>\n",
              "      <td>500.000000</td>\n",
              "      <td>10.710000</td>\n",
              "      <td>122.000000</td>\n",
              "      <td>365.000000</td>\n",
              "    </tr>\n",
              "  </tbody>\n",
              "</table>\n",
              "</div>"
            ],
            "text/plain": [
              "               price  ...  availability_365\n",
              "count   20636.000000  ...      20636.000000\n",
              "mean      301.499124  ...        231.519626\n",
              "std      3837.693565  ...        130.819993\n",
              "min         0.000000  ...          0.000000\n",
              "25%        99.000000  ...         90.000000\n",
              "50%       156.290000  ...        267.500000\n",
              "75%       250.030000  ...        364.000000\n",
              "max    520929.270000  ...        365.000000\n",
              "\n",
              "[8 rows x 6 columns]"
            ]
          },
          "metadata": {
            "tags": []
          },
          "execution_count": 8
        }
      ]
    },
    {
      "cell_type": "markdown",
      "metadata": {
        "id": "eyUezA8F_Gp_"
      },
      "source": [
        "Observando o resumo acima, temos algumas informações insólitas, como:\r\n",
        "\r\n",
        "*   A variável `price` possui 75% do valores abaixo de 250, porém seu valor máximo é de 520929.\r\n",
        "*   A quantidade máxima de minimas de noites(`minimum_nights`) está acima de 365 dias no ano\r\n",
        "\r\n",
        "\r\n",
        "\r\n",
        "#### Boxplot para minimum_nights"
      ]
    },
    {
      "cell_type": "code",
      "metadata": {
        "colab": {
          "base_uri": "https://localhost:8080/",
          "height": 314
        },
        "id": "SUx2-xF5AvG7",
        "outputId": "617083ff-99b2-4b27-e6b6-0e44821ffa0d"
      },
      "source": [
        "#minimum_nights\r\n",
        "\r\n",
        "df.minimum_nights.plot(kind='box',vert=True,figsize=(15,3))\r\n",
        "plt.show()\r\n",
        "print(\"No boxplot, a linha verde representa a média.\\n\\n\")\r\n",
        "\r\n",
        "# ver quantidades de valores acima de 30 dias para minimum_nights\r\n",
        "\r\n",
        "print(\"minimum_nights: valores acima de 30\")\r\n",
        "print(\"{} entradas\".format(len(df[df.minimum_nights > 30])))\r\n",
        "print(\"{:.4f}%\".format((len(df[df.minimum_nights> 30]) / df.shape[0])*100))"
      ],
      "execution_count": null,
      "outputs": [
        {
          "output_type": "display_data",
          "data": {
            "image/png": "[encoded data removed]",
            "text/plain": [
              "<Figure size 1080x216 with 1 Axes>"
            ]
          },
          "metadata": {
            "tags": [],
            "needs_background": "light"
          }
        },
        {
          "output_type": "stream",
          "text": [
            "No boxplot, a linha verde representa a média.\n",
            "\n",
            "\n",
            "minimum_nights: valores acima de 30\n",
            "339 entradas\n",
            "1.6428%\n"
          ],
          "name": "stdout"
        }
      ]
    },
    {
      "cell_type": "markdown",
      "metadata": {
        "id": "Y824YQgJCE6t"
      },
      "source": [
        "\r\n",
        "\r\n",
        "*   As noites acima de 30 represetam apenas 1.6% do nosso *dataset*, por isso a opção mais indicada é a remoçao desses *outliers*.\r\n",
        "\r\n",
        "\r\n"
      ]
    },
    {
      "cell_type": "markdown",
      "metadata": {
        "id": "gU3owJjLCwsT"
      },
      "source": [
        "#### Boxplot para price"
      ]
    },
    {
      "cell_type": "code",
      "metadata": {
        "colab": {
          "base_uri": "https://localhost:8080/",
          "height": 330
        },
        "id": "D-K-lTY9DThl",
        "outputId": "a9e27345-9c97-4dac-d45f-6fd3890387bb"
      },
      "source": [
        "# price\r\n",
        "df.price.plot(kind='box', vert=True, figsize=(15,3),)\r\n",
        "plt.show()\r\n",
        "print(\"No boxplot, a linha verde representa a média.\\n\\n\")\r\n",
        "\r\n",
        "# ver quantidade de valores acima de 1000 para price\r\n",
        "\r\n",
        "print(\"\\nprice: valores acima de 1000\")\r\n",
        "print(\"{} entradas\".format(len(df[df.price>1000])))\r\n",
        "print(\"{:.4f}%\".format((len(df[df.price>1000])/ df.shape[0])*100))"
      ],
      "execution_count": null,
      "outputs": [
        {
          "output_type": "display_data",
          "data": {
            "image/png": "[encoded data removed]",
            "text/plain": [
              "<Figure size 1080x216 with 1 Axes>"
            ]
          },
          "metadata": {
            "tags": [],
            "needs_background": "light"
          }
        },
        {
          "output_type": "stream",
          "text": [
            "No boxplot, a linha verde representa a média.\n",
            "\n",
            "\n",
            "\n",
            "price: valores acima de 1000\n",
            "456 entradas\n",
            "2.2097%\n"
          ],
          "name": "stdout"
        }
      ]
    },
    {
      "cell_type": "markdown",
      "metadata": {
        "id": "stDNntZJtcDg"
      },
      "source": [
        "*   Os preços acima de 1000 represetam somente 2% do *dataset*, por isso a remoção desses *outliers* é a opção mais indicada.\r\n"
      ]
    },
    {
      "cell_type": "markdown",
      "metadata": {
        "id": "k6MuEvZtErhc"
      },
      "source": [
        "#### Histogramas sem outliers\r\n",
        "\r\n",
        "Agora que indentificamos os outliers nas colunas `price` e `minimum_nights` , vamos limpar o conjunto de dados e plotar os histogramas novamente.\r\n",
        "\r\n",
        "*   Na coluna `price`, valores acima de 1000 terão toda sua entrada removida do *dataset*.\r\n",
        "*   Tambem removeremos valores menores que 1 na coluna `price`\r\n",
        "*   Na coluna  `minimum_nights`, valores acima de 30 terão toda sua entrada removida do *dataset*\r\n",
        "*   A coluna `neighbourhood_group` será removida pois está vazia \r\n",
        "*   Esses processos serão feitos em um novo *dataset*, com o intuito de preservação do original\r\n",
        "\r\n",
        "\r\n",
        "\r\n"
      ]
    },
    {
      "cell_type": "code",
      "metadata": {
        "colab": {
          "base_uri": "https://localhost:8080/",
          "height": 607
        },
        "id": "wbrubEEhFX6X",
        "outputId": "8b85d410-251f-487f-e23d-e5341fc44e5b"
      },
      "source": [
        "# remover os outliers em um novo DataFrame\r\n",
        "df_clean = df.copy()\r\n",
        "\r\n",
        "df_clean.drop(df_clean[df_clean.price > 1000].index, axis=0, inplace=True)\r\n",
        "\r\n",
        "df_clean.drop(df_clean[df_clean.price < 1].index, axis=0, inplace=True)\r\n",
        "\r\n",
        "df_clean.drop(df_clean[df_clean.minimum_nights>30].index, axis=0, inplace=True)\r\n",
        "\r\n",
        "# remover neighbourhood_group, pois está vazio\r\n",
        "df_clean.drop('neighbourhood_group', axis=1,inplace=True)\r\n",
        "\r\n",
        "#plotar o histograma para as variáveis numéricas\r\n",
        "df_clean.hist(bins=15, figsize=(15,10));"
      ],
      "execution_count": null,
      "outputs": [
        {
          "output_type": "display_data",
          "data": {
            "image/png": "[encoded data removed]",
            "text/plain": [
              "<Figure size 1080x720 with 12 Axes>"
            ]
          },
          "metadata": {
            "tags": [],
            "needs_background": "light"
          }
        }
      ]
    },
    {
      "cell_type": "markdown",
      "metadata": {
        "id": "BBexIrfLGpJ-"
      },
      "source": [
        "#### Resumo gráfico sem outliers"
      ]
    },
    {
      "cell_type": "code",
      "metadata": {
        "colab": {
          "base_uri": "https://localhost:8080/",
          "height": 317
        },
        "id": "x-6gX0kHGsqP",
        "outputId": "ba507155-d554-4b3b-a77d-6b5440608571"
      },
      "source": [
        "df_clean[['price','minimum_nights', 'number_of_reviews', 'reviews_per_month','calculated_host_listings_count' ,'availability_365']].describe()"
      ],
      "execution_count": null,
      "outputs": [
        {
          "output_type": "execute_result",
          "data": {
            "text/html": [
              "<div>\n",
              "<style scoped>\n",
              "    .dataframe tbody tr th:only-of-type {\n",
              "        vertical-align: middle;\n",
              "    }\n",
              "\n",
              "    .dataframe tbody tr th {\n",
              "        vertical-align: top;\n",
              "    }\n",
              "\n",
              "    .dataframe thead th {\n",
              "        text-align: right;\n",
              "    }\n",
              "</style>\n",
              "<table border=\"1\" class=\"dataframe\">\n",
              "  <thead>\n",
              "    <tr style=\"text-align: right;\">\n",
              "      <th></th>\n",
              "      <th>price</th>\n",
              "      <th>minimum_nights</th>\n",
              "      <th>number_of_reviews</th>\n",
              "      <th>reviews_per_month</th>\n",
              "      <th>calculated_host_listings_count</th>\n",
              "      <th>availability_365</th>\n",
              "    </tr>\n",
              "  </thead>\n",
              "  <tbody>\n",
              "    <tr>\n",
              "      <th>count</th>\n",
              "      <td>19838.000000</td>\n",
              "      <td>19838.000000</td>\n",
              "      <td>19838.000000</td>\n",
              "      <td>14054.000000</td>\n",
              "      <td>19838.000000</td>\n",
              "      <td>19838.000000</td>\n",
              "    </tr>\n",
              "    <tr>\n",
              "      <th>mean</th>\n",
              "      <td>194.707482</td>\n",
              "      <td>4.675219</td>\n",
              "      <td>16.739540</td>\n",
              "      <td>0.704961</td>\n",
              "      <td>7.454380</td>\n",
              "      <td>230.335417</td>\n",
              "    </tr>\n",
              "    <tr>\n",
              "      <th>std</th>\n",
              "      <td>151.776772</td>\n",
              "      <td>6.191124</td>\n",
              "      <td>33.843219</td>\n",
              "      <td>0.836000</td>\n",
              "      <td>17.320337</td>\n",
              "      <td>130.687041</td>\n",
              "    </tr>\n",
              "    <tr>\n",
              "      <th>min</th>\n",
              "      <td>8.010000</td>\n",
              "      <td>1.000000</td>\n",
              "      <td>0.000000</td>\n",
              "      <td>0.010000</td>\n",
              "      <td>1.000000</td>\n",
              "      <td>0.000000</td>\n",
              "    </tr>\n",
              "    <tr>\n",
              "      <th>25%</th>\n",
              "      <td>96.940000</td>\n",
              "      <td>2.000000</td>\n",
              "      <td>0.000000</td>\n",
              "      <td>0.140000</td>\n",
              "      <td>1.000000</td>\n",
              "      <td>90.000000</td>\n",
              "    </tr>\n",
              "    <tr>\n",
              "      <th>50%</th>\n",
              "      <td>151.090000</td>\n",
              "      <td>3.000000</td>\n",
              "      <td>4.000000</td>\n",
              "      <td>0.390000</td>\n",
              "      <td>2.000000</td>\n",
              "      <td>263.000000</td>\n",
              "    </tr>\n",
              "    <tr>\n",
              "      <th>75%</th>\n",
              "      <td>234.400000</td>\n",
              "      <td>5.000000</td>\n",
              "      <td>18.000000</td>\n",
              "      <td>0.970000</td>\n",
              "      <td>4.000000</td>\n",
              "      <td>364.000000</td>\n",
              "    </tr>\n",
              "    <tr>\n",
              "      <th>max</th>\n",
              "      <td>995.000000</td>\n",
              "      <td>30.000000</td>\n",
              "      <td>500.000000</td>\n",
              "      <td>10.710000</td>\n",
              "      <td>122.000000</td>\n",
              "      <td>365.000000</td>\n",
              "    </tr>\n",
              "  </tbody>\n",
              "</table>\n",
              "</div>"
            ],
            "text/plain": [
              "              price  ...  availability_365\n",
              "count  19838.000000  ...      19838.000000\n",
              "mean     194.707482  ...        230.335417\n",
              "std      151.776772  ...        130.687041\n",
              "min        8.010000  ...          0.000000\n",
              "25%       96.940000  ...         90.000000\n",
              "50%      151.090000  ...        263.000000\n",
              "75%      234.400000  ...        364.000000\n",
              "max      995.000000  ...        365.000000\n",
              "\n",
              "[8 rows x 6 columns]"
            ]
          },
          "metadata": {
            "tags": []
          },
          "execution_count": 12
        }
      ]
    },
    {
      "cell_type": "markdown",
      "metadata": {
        "id": "GnVfjnEFIZL5"
      },
      "source": [
        "### **Q5. Qual a correlação existente entre as variáveis?**\r\n",
        "\r\n",
        "Existe alguma semelhaça entre duas variaveis? Buscaremos agora, alguma correlação relevante.\r\n",
        "\r\n",
        "Para esse processo, realizaremos as seguintes tarefas:\r\n",
        "\r\n",
        "\r\n",
        "*   Criar uma matriz de correlação \r\n",
        "*   Gerar um heatmap a partir desssa matriz, usando a biblioteca *seaborn*\r\n"
      ]
    },
    {
      "cell_type": "code",
      "metadata": {
        "colab": {
          "base_uri": "https://localhost:8080/",
          "height": 255
        },
        "id": "Yt6kDmVBIfOs",
        "outputId": "63e8c859-04bc-4422-d3ca-0cd524a9b27a"
      },
      "source": [
        "# Criando uma matriz de correlação\r\n",
        "\r\n",
        "corr = df_clean [['price','minimum_nights','number_of_reviews','reviews_per_month','calculated_host_listings_count','availability_365']].corr()\r\n",
        "\r\n",
        "display(corr)"
      ],
      "execution_count": null,
      "outputs": [
        {
          "output_type": "display_data",
          "data": {
            "text/html": [
              "<div>\n",
              "<style scoped>\n",
              "    .dataframe tbody tr th:only-of-type {\n",
              "        vertical-align: middle;\n",
              "    }\n",
              "\n",
              "    .dataframe tbody tr th {\n",
              "        vertical-align: top;\n",
              "    }\n",
              "\n",
              "    .dataframe thead th {\n",
              "        text-align: right;\n",
              "    }\n",
              "</style>\n",
              "<table border=\"1\" class=\"dataframe\">\n",
              "  <thead>\n",
              "    <tr style=\"text-align: right;\">\n",
              "      <th></th>\n",
              "      <th>price</th>\n",
              "      <th>minimum_nights</th>\n",
              "      <th>number_of_reviews</th>\n",
              "      <th>reviews_per_month</th>\n",
              "      <th>calculated_host_listings_count</th>\n",
              "      <th>availability_365</th>\n",
              "    </tr>\n",
              "  </thead>\n",
              "  <tbody>\n",
              "    <tr>\n",
              "      <th>price</th>\n",
              "      <td>1.000000</td>\n",
              "      <td>-0.038491</td>\n",
              "      <td>-0.029361</td>\n",
              "      <td>-0.068753</td>\n",
              "      <td>0.130199</td>\n",
              "      <td>0.041011</td>\n",
              "    </tr>\n",
              "    <tr>\n",
              "      <th>minimum_nights</th>\n",
              "      <td>-0.038491</td>\n",
              "      <td>1.000000</td>\n",
              "      <td>-0.082567</td>\n",
              "      <td>-0.122470</td>\n",
              "      <td>0.122160</td>\n",
              "      <td>0.008823</td>\n",
              "    </tr>\n",
              "    <tr>\n",
              "      <th>number_of_reviews</th>\n",
              "      <td>-0.029361</td>\n",
              "      <td>-0.082567</td>\n",
              "      <td>1.000000</td>\n",
              "      <td>0.771585</td>\n",
              "      <td>-0.067608</td>\n",
              "      <td>-0.016154</td>\n",
              "    </tr>\n",
              "    <tr>\n",
              "      <th>reviews_per_month</th>\n",
              "      <td>-0.068753</td>\n",
              "      <td>-0.122470</td>\n",
              "      <td>0.771585</td>\n",
              "      <td>1.000000</td>\n",
              "      <td>-0.059042</td>\n",
              "      <td>-0.090941</td>\n",
              "    </tr>\n",
              "    <tr>\n",
              "      <th>calculated_host_listings_count</th>\n",
              "      <td>0.130199</td>\n",
              "      <td>0.122160</td>\n",
              "      <td>-0.067608</td>\n",
              "      <td>-0.059042</td>\n",
              "      <td>1.000000</td>\n",
              "      <td>0.032162</td>\n",
              "    </tr>\n",
              "    <tr>\n",
              "      <th>availability_365</th>\n",
              "      <td>0.041011</td>\n",
              "      <td>0.008823</td>\n",
              "      <td>-0.016154</td>\n",
              "      <td>-0.090941</td>\n",
              "      <td>0.032162</td>\n",
              "      <td>1.000000</td>\n",
              "    </tr>\n",
              "  </tbody>\n",
              "</table>\n",
              "</div>"
            ],
            "text/plain": [
              "                                   price  ...  availability_365\n",
              "price                           1.000000  ...          0.041011\n",
              "minimum_nights                 -0.038491  ...          0.008823\n",
              "number_of_reviews              -0.029361  ...         -0.016154\n",
              "reviews_per_month              -0.068753  ...         -0.090941\n",
              "calculated_host_listings_count  0.130199  ...          0.032162\n",
              "availability_365                0.041011  ...          1.000000\n",
              "\n",
              "[6 rows x 6 columns]"
            ]
          },
          "metadata": {
            "tags": []
          }
        }
      ]
    },
    {
      "cell_type": "code",
      "metadata": {
        "colab": {
          "base_uri": "https://localhost:8080/",
          "height": 411
        },
        "id": "uYooHWRNIpfj",
        "outputId": "554d6f55-26a6-4620-ce94-556ece2663d9"
      },
      "source": [
        "#criando um heatmap\r\n",
        "\r\n",
        "sns.heatmap(corr, cmap='RdBu', fmt='.2f',square=True,linecolor='white',annot=True);"
      ],
      "execution_count": null,
      "outputs": [
        {
          "output_type": "display_data",
          "data": {
            "image/png": "[encoded data removed]",
            "text/plain": [
              "<Figure size 432x288 with 2 Axes>"
            ]
          },
          "metadata": {
            "tags": [],
            "needs_background": "light"
          }
        }
      ]
    },
    {
      "cell_type": "markdown",
      "metadata": {
        "id": "Ij8xeGfUI4zZ"
      },
      "source": [
        "\r\n",
        "*   O *heatmap* acima não apresenta nenhuma correlação relevante, apenas um pequeno um indicio de 0.77 entre as colunas `number_of_reviews` e `reviews_per_month`. O que se trata de uma informação intuitiva."
      ]
    },
    {
      "cell_type": "markdown",
      "metadata": {
        "id": "EiK_seStJZSB"
      },
      "source": [
        "### **Q6. Qual o tipo de imóvel mais alugado?**\r\n",
        "\r\n",
        "O AirBnB oferece opções de alojamentos, como por exemplo: apartamentos, casas, quartos ou até mesmos quartos compartilhados.\r\n",
        "\r\n",
        "A coluna da variável `room_type` indica exatamente o tipo de locação anunciada, e é com ela que iremos trabalhar agora.\r\n",
        "\r\n",
        "Para contar a quantidade de ocorrências de cada tipo de aluguel, usaremos o método `value_counts()` \r\n",
        "\r\n",
        "\r\n"
      ]
    },
    {
      "cell_type": "code",
      "metadata": {
        "colab": {
          "base_uri": "https://localhost:8080/"
        },
        "id": "a7k9Xi28Jqm9",
        "outputId": "39c9f00e-d85e-47fd-87bd-e20eae93d2df"
      },
      "source": [
        "# mostrando a quantidade de cada tipo de imóvel disponível\r\n",
        "df_clean.room_type.value_counts()"
      ],
      "execution_count": null,
      "outputs": [
        {
          "output_type": "execute_result",
          "data": {
            "text/plain": [
              "Entire home/apt    15587\n",
              "Private room        3681\n",
              "Shared room          426\n",
              "Hotel room           144\n",
              "Name: room_type, dtype: int64"
            ]
          },
          "metadata": {
            "tags": []
          },
          "execution_count": 15
        }
      ]
    },
    {
      "cell_type": "code",
      "metadata": {
        "colab": {
          "base_uri": "https://localhost:8080/"
        },
        "id": "E5acUZW-Kd_i",
        "outputId": "f981cbef-1244-4eb7-b91e-3e5365a72cc6"
      },
      "source": [
        "# mostrando a porcetagem de cada tipo de imóvel disponivel\r\n",
        "round(df_clean.room_type.value_counts() / df_clean.shape[0],4)"
      ],
      "execution_count": null,
      "outputs": [
        {
          "output_type": "execute_result",
          "data": {
            "text/plain": [
              "Entire home/apt    0.7857\n",
              "Private room       0.1856\n",
              "Shared room        0.0215\n",
              "Hotel room         0.0073\n",
              "Name: room_type, dtype: float64"
            ]
          },
          "metadata": {
            "tags": []
          },
          "execution_count": 16
        }
      ]
    },
    {
      "cell_type": "markdown",
      "metadata": {
        "id": "8VA7fFjnMd3P"
      },
      "source": [
        "#### Representação gráfica de tipos de móveis"
      ]
    },
    {
      "cell_type": "code",
      "metadata": {
        "colab": {
          "base_uri": "https://localhost:8080/",
          "height": 280
        },
        "id": "FtL4UmGIMuxC",
        "outputId": "c0dd9ffb-9ad3-41d0-a65a-5a031a0b7a25"
      },
      "source": [
        "sns.countplot(x='room_type',data=df_clean);"
      ],
      "execution_count": null,
      "outputs": [
        {
          "output_type": "display_data",
          "data": {
            "image/png": "[encoded data removed]",
            "text/plain": [
              "<Figure size 432x288 with 1 Axes>"
            ]
          },
          "metadata": {
            "tags": [],
            "needs_background": "light"
          }
        }
      ]
    },
    {
      "cell_type": "markdown",
      "metadata": {
        "id": "0NKiE3vWN2g-"
      },
      "source": [
        "### **Q7. Qual a localidade mais cara de Buenos Aires?**\r\n",
        "\r\n",
        "Para se verificar uma variável em função de uma outra, usamos o método `groupby()`. No caso, queremos comparar os bairros (*neighbourhoods*) e seus preços (*prices*)."
      ]
    },
    {
      "cell_type": "code",
      "metadata": {
        "colab": {
          "base_uri": "https://localhost:8080/"
        },
        "id": "U4hTF5c6N52P",
        "outputId": "75eb0584-95d8-4fff-8fb9-f09c0075aae3"
      },
      "source": [
        "df_clean.groupby(['neighbourhood']).price.mean().sort_values(ascending=False)[:3]"
      ],
      "execution_count": null,
      "outputs": [
        {
          "output_type": "execute_result",
          "data": {
            "text/plain": [
              "neighbourhood\n",
              "Puerto Madero    436.428157\n",
              "Villa Real       318.012222\n",
              "Villa Soldati    314.093333\n",
              "Name: price, dtype: float64"
            ]
          },
          "metadata": {
            "tags": []
          },
          "execution_count": 18
        }
      ]
    },
    {
      "cell_type": "markdown",
      "metadata": {
        "id": "C84n6rLsOMDG"
      },
      "source": [
        "Como podemos observar acima, os bairros de Puerto Madero, Villa Real e Villa Soldati, estão sendo apresentados como os mais caros, mas sera que isso representa a realidade?\r\n",
        "\r\n",
        "Para responder essa duvida, iremos analisar a quantidade de imóveis em Puerto Madero, Villa Real e Villa Soldati."
      ]
    },
    {
      "cell_type": "code",
      "metadata": {
        "colab": {
          "base_uri": "https://localhost:8080/"
        },
        "id": "x6z2pYaYOfVO",
        "outputId": "3473e930-e7e4-4bec-da76-6500bb65e90f"
      },
      "source": [
        "# ver quantidade de imóveis em Puerto Madero\r\n",
        "\r\n",
        "print('Quantidade de imóveis em Puerto Madero: {}'.format((df_clean[df_clean.neighbourhood == \"Puerto Madero\"].shape[0])))\r\n",
        "\r\n",
        "print('Quantidade de imóveis em Villa Real: {}'.format((df_clean[df_clean.neighbourhood == \"Villa Real\"].shape[0])))\r\n",
        "\r\n",
        "print('Quantidade de imóveis em Villa Soldati: {}'.format((df_clean[df_clean.neighbourhood == \"Villa Soldati\"].shape[0])))\r\n"
      ],
      "execution_count": null,
      "outputs": [
        {
          "output_type": "stream",
          "text": [
            "Quantidade de imóveis em Puerto Madero: 217\n",
            "Quantidade de imóveis em Villa Real: 9\n",
            "Quantidade de imóveis em Villa Soldati: 3\n"
          ],
          "name": "stdout"
        }
      ]
    },
    {
      "cell_type": "markdown",
      "metadata": {
        "id": "6W7Uk6aFQJg9"
      },
      "source": [
        "Através das respostas dadas acima, é possivel afirmar que:\r\n",
        "\r\n",
        "\r\n",
        "*   Com seus 217 imóveis, com preço médio de R$436, Puerto Madero **pode ser considerado o bairo mais caro** de Buenos Aires.\r\n",
        "\r\n",
        "<center><img alt=\"Puerto Madero - Buenos Aaires\" width=\"50%\" src=\"https://image.freepik.com/fotos-gratis/puerto-madero-buenos-aires_78361-3502.jpg\"></center>\r\n",
        "\r\n",
        "*   Villa Real e Villa Soldati contém juntas apenas 12 entradas, e por isso **não podem ser considerados** como bairros mais caros, por apresentarem poucas entradas no *dataset*\r\n",
        "\r\n"
      ]
    },
    {
      "cell_type": "markdown",
      "metadata": {
        "id": "6bALU49HUIT4"
      },
      "source": [
        "#### Plotagem atráves de latitude e longitude.\r\n",
        "\r\n",
        "Como são fornecidas as Latitudes e Longitudes para os imóveis, é possível plotar cada ponto. Para isso, considera-se `x=longitude` e `y=latitude`\r\n",
        "\r\n",
        "Na imagem sera considerado o preço de cada alojamento no eixo Y."
      ]
    },
    {
      "cell_type": "code",
      "metadata": {
        "colab": {
          "base_uri": "https://localhost:8080/",
          "height": 469
        },
        "id": "C36a8tZ4UUGx",
        "outputId": "436f4a18-8ea1-48c9-d929-bd057d795189"
      },
      "source": [
        "# plotar os imóveis pela latitude-longitude\r\n",
        "df_clean.plot(kind=\"scatter\", x='longitude', y='latitude', alpha=0.4, c=df_clean['price'], s=8,\r\n",
        "              cmap=plt.get_cmap('jet'), figsize=(12,8));"
      ],
      "execution_count": null,
      "outputs": [
        {
          "output_type": "display_data",
          "data": {
            "image/png": "[encoded data removed]",
            "text/plain": [
              "<Figure size 864x576 with 2 Axes>"
            ]
          },
          "metadata": {
            "tags": [],
            "needs_background": "light"
          }
        }
      ]
    },
    {
      "cell_type": "markdown",
      "metadata": {
        "id": "v_1B52wKVJsN"
      },
      "source": [
        "### Q8. Informações de alojamentos em outros bairros populares.\r\n",
        "\r\n",
        "Em Buenos Aires existem outros bairros muito procurado por turistas no ano inteiro, segundo o portal [aguiarbuenosaires.com](https://aguiarbuenosaires.com) alguns dos bairros principais são:\r\n",
        "\r\n",
        "*   La boca\r\n",
        "*   Retiro\r\n",
        "*   Recoleta\r\n",
        "*   Palermo\r\n",
        "*   Puerto Madero\r\n",
        "\r\n",
        "\r\n",
        "*para materia completa sobre o bairros da capital argentina clique [aqui](https://aguiarbuenosaires.com/bairros-de-buenos-aires/)*\r\n"
      ]
    },
    {
      "cell_type": "markdown",
      "metadata": {
        "id": "avk4Xv3PXYBa"
      },
      "source": [
        "#### La Boca\r\n",
        "O mais antigo bairro da capital, muito procurado por turistas. Tem como pontos turisticos principais a *La Bombonera* e o *Caminito*\r\n",
        "\r\n",
        "<center><img alt=\"La boca - Buenos Aaires\" width=\"50%\" src=\"https://image.freepik.com/fotos-gratis/caminito-alley-no-bairro-de-la-boca-buenos-aires-argentina_76000-2147.jpg\"></center>"
      ]
    },
    {
      "cell_type": "code",
      "metadata": {
        "colab": {
          "base_uri": "https://localhost:8080/",
          "height": 204
        },
        "id": "yxCEC2ajYpSR",
        "outputId": "ed5995db-8c00-4ee7-f778-51fb930a7ce7"
      },
      "source": [
        "#Construindo um dataset apenas com as informações mais relevantes e apenas com entradas do bairro de \"Boca\"\r\n",
        "df_boca=df_clean[['room_type','price','minimum_nights','availability_365','neighbourhood']].query(\"neighbourhood=='Boca'\").reset_index(drop=True)\r\n",
        "#Primeira impressão do dataset\r\n",
        "df_boca.head()"
      ],
      "execution_count": null,
      "outputs": [
        {
          "output_type": "execute_result",
          "data": {
            "text/html": [
              "<div>\n",
              "<style scoped>\n",
              "    .dataframe tbody tr th:only-of-type {\n",
              "        vertical-align: middle;\n",
              "    }\n",
              "\n",
              "    .dataframe tbody tr th {\n",
              "        vertical-align: top;\n",
              "    }\n",
              "\n",
              "    .dataframe thead th {\n",
              "        text-align: right;\n",
              "    }\n",
              "</style>\n",
              "<table border=\"1\" class=\"dataframe\">\n",
              "  <thead>\n",
              "    <tr style=\"text-align: right;\">\n",
              "      <th></th>\n",
              "      <th>room_type</th>\n",
              "      <th>price</th>\n",
              "      <th>minimum_nights</th>\n",
              "      <th>availability_365</th>\n",
              "      <th>neighbourhood</th>\n",
              "    </tr>\n",
              "  </thead>\n",
              "  <tbody>\n",
              "    <tr>\n",
              "      <th>0</th>\n",
              "      <td>Private room</td>\n",
              "      <td>520.95</td>\n",
              "      <td>1</td>\n",
              "      <td>365</td>\n",
              "      <td>Boca</td>\n",
              "    </tr>\n",
              "    <tr>\n",
              "      <th>1</th>\n",
              "      <td>Entire home/apt</td>\n",
              "      <td>154.22</td>\n",
              "      <td>3</td>\n",
              "      <td>363</td>\n",
              "      <td>Boca</td>\n",
              "    </tr>\n",
              "    <tr>\n",
              "      <th>2</th>\n",
              "      <td>Private room</td>\n",
              "      <td>208.38</td>\n",
              "      <td>7</td>\n",
              "      <td>365</td>\n",
              "      <td>Boca</td>\n",
              "    </tr>\n",
              "    <tr>\n",
              "      <th>3</th>\n",
              "      <td>Entire home/apt</td>\n",
              "      <td>609.51</td>\n",
              "      <td>1</td>\n",
              "      <td>0</td>\n",
              "      <td>Boca</td>\n",
              "    </tr>\n",
              "    <tr>\n",
              "      <th>4</th>\n",
              "      <td>Private room</td>\n",
              "      <td>854.35</td>\n",
              "      <td>1</td>\n",
              "      <td>365</td>\n",
              "      <td>Boca</td>\n",
              "    </tr>\n",
              "  </tbody>\n",
              "</table>\n",
              "</div>"
            ],
            "text/plain": [
              "         room_type   price  minimum_nights  availability_365 neighbourhood\n",
              "0     Private room  520.95               1               365          Boca\n",
              "1  Entire home/apt  154.22               3               363          Boca\n",
              "2     Private room  208.38               7               365          Boca\n",
              "3  Entire home/apt  609.51               1                 0          Boca\n",
              "4     Private room  854.35               1               365          Boca"
            ]
          },
          "metadata": {
            "tags": []
          },
          "execution_count": 21
        }
      ]
    },
    {
      "cell_type": "markdown",
      "metadata": {
        "id": "FPJ30CgCI_UW"
      },
      "source": [
        "#####Quantidade de alojamentos e disponibilidade"
      ]
    },
    {
      "cell_type": "code",
      "metadata": {
        "colab": {
          "base_uri": "https://localhost:8080/"
        },
        "id": "sK01rNbeJQHs",
        "outputId": "37d28808-3a67-4dcc-fdb8-9315300dfc87"
      },
      "source": [
        "#Quantidade total de alojamentos\r\n",
        "print(\"O bairro de La Boca possui {} de alojamentos\".format(len(df_boca)))\r\n",
        "#Porcentual de alojamentos do bairro La Boca em relação a todo dataset\r\n",
        "x=len(df_boca)\r\n",
        "y=len(df_clean)\r\n",
        "xy=round((x/y)*100,2)\r\n",
        "print(\"O bairo de La Boca possui {}% dos alojamentos de todo dataset\".format(xy))"
      ],
      "execution_count": null,
      "outputs": [
        {
          "output_type": "stream",
          "text": [
            "O bairro de La Boca possui 117 de alojamentos\n",
            "O bairo de La Boca possui 0.59% dos alojamentos de todo dataset\n"
          ],
          "name": "stdout"
        }
      ]
    },
    {
      "cell_type": "code",
      "metadata": {
        "colab": {
          "base_uri": "https://localhost:8080/"
        },
        "id": "W0A4extsTQ_i",
        "outputId": "bfb41171-a72c-4268-c52b-56fd91e8bc8e"
      },
      "source": [
        "#Disponibilidade anual no bairro de La Boca\r\n",
        "print(\"Dos {} alojamento em La Boca, {} estão disponíveis o ano inteiro\".format(len(df_boca),sum(df_boca.availability_365 > 299)))\r\n",
        "#Porcentual de disponibilidade anual\r\n",
        "x=sum(df_boca.availability_365 > 299)\r\n",
        "y=len(df_boca)\r\n",
        "xy=round((x/y)*100,2)\r\n",
        "print(\"Cerca de {}% dos alojamentos em La Boca estão disponíveis o ano inteiro\".format(xy))\r\n",
        "print(\"\\n obs:consideramos disponíveis o ano inteiro , alojamentos que ficaram 300 dias ou mais disponíveis no ano\")\r\n"
      ],
      "execution_count": null,
      "outputs": [
        {
          "output_type": "stream",
          "text": [
            "Dos 117 alojamento em La Boca, 54 estão disponíveis o ano inteiro\n",
            "Cerca de 46.15% dos alojamentos em La Boca estão disponíveis o ano inteiro\n",
            "\n",
            " obs:consideramos disponíveis o ano inteiro , alojamentos que ficaram 300 dias ou mais disponíveis no ano\n"
          ],
          "name": "stdout"
        }
      ]
    },
    {
      "cell_type": "code",
      "metadata": {
        "colab": {
          "base_uri": "https://localhost:8080/",
          "height": 369
        },
        "id": "ZYJLsNGHYFRy",
        "outputId": "2b025a85-d957-4d34-b39a-df272e87c641"
      },
      "source": [
        "#Gráfico ilustrando a quantidade casas e sua disponibilidade em dias no ano.\r\n",
        "sns.displot(df_boca['availability_365'], kde = False,bins=10);"
      ],
      "execution_count": null,
      "outputs": [
        {
          "output_type": "display_data",
          "data": {
            "image/png": "[encoded data removed]",
            "text/plain": [
              "<Figure size 360x360 with 1 Axes>"
            ]
          },
          "metadata": {
            "tags": [],
            "needs_background": "light"
          }
        }
      ]
    },
    {
      "cell_type": "markdown",
      "metadata": {
        "id": "_2flQWf6cpVT"
      },
      "source": [
        "#####Custo dos alojamentos"
      ]
    },
    {
      "cell_type": "code",
      "metadata": {
        "colab": {
          "base_uri": "https://localhost:8080/"
        },
        "id": "rpv3ftS9ctwj",
        "outputId": "8816ab55-0099-4afb-d2ac-3a0f69093f50"
      },
      "source": [
        "#Alojamento mais caro do bairro La Boca\r\n",
        "print(\"O alojamento mais caro do bairro La Boca se encontra no preço de: R${}\".format(df_boca.price.max()))\r\n",
        "#Alojamento mais barato do bairro La Boca\r\n",
        "print(\"O alojamento mais barato do bairro La Boca se encontra no preço de: R${}\".format(df_boca.price.min()))"
      ],
      "execution_count": null,
      "outputs": [
        {
          "output_type": "stream",
          "text": [
            "O alojamento mais caro do bairro La Boca se encontra no preço de: R$937.71\n",
            "O alojamento mais barato do bairro La Boca se encontra no preço de: R$18.76\n"
          ],
          "name": "stdout"
        }
      ]
    },
    {
      "cell_type": "code",
      "metadata": {
        "colab": {
          "base_uri": "https://localhost:8080/"
        },
        "id": "I6OcYUmkd1eW",
        "outputId": "635f5451-bb68-4105-e1a5-a3cd91a3b002"
      },
      "source": [
        "#A média de preço dos alojamentos\r\n",
        "print(\"A média de preço dos alojamentos em La boca é de: R${:.2f}\\n\".format(df_boca.price.mean()))\r\n",
        "#Comparação com a média de toda Buenos Aires\r\n",
        "media_preço_ba=df_clean.price.mean()\r\n",
        "if df_boca.price.mean() > media_preço_ba:\r\n",
        "  print(\"A média de preço de toda Buenos Aires é de: R${:.2f}\".format(media_preço_ba))\r\n",
        "  dif=df_boca.price.mean() - media_preço_ba\r\n",
        "  per=(dif/media_preço_ba)* 100\r\n",
        "  print(\"Sendo assim, a média em La Boca é {:.2f}% maior em relação à toda cidade.\".format(per))\r\n",
        "else:\r\n",
        "  print(\"A média de preço em toda Buenos Aires é de: R${:.2f}\".format(media_preço_ba))\r\n",
        "  dif=media_preço_ba - df_boca.price.mean()\r\n",
        "  per=(dif/media_preço_ba)*100\r\n",
        "  print(\"Sendo assim, a média em La Boca é {:.2f}% menor em relação a toda cidade.\".format(per))\r\n",
        "  "
      ],
      "execution_count": null,
      "outputs": [
        {
          "output_type": "stream",
          "text": [
            "A média de preço dos alojamentos em La boca é de: R$158.15\n",
            "\n",
            "A média de preço em toda Buenos Aires é de: R$194.71\n",
            "Sendo assim, a média em La Boca é 18.78% menor em relação a toda cidade.\n"
          ],
          "name": "stdout"
        }
      ]
    },
    {
      "cell_type": "code",
      "metadata": {
        "id": "w51cXZiTldWF"
      },
      "source": [
        "# Criando um df com as médias de preço de La Boca e Buenos Aires\r\n",
        "lista = []\r\n",
        "lista.append(media_preço_ba)\r\n",
        "lista.append(df_boca.price.mean())\r\n",
        "dfc=pd.DataFrame(lista,index=\"BUENOS_AIRES LA_BOCA\".split(),columns=\"MEDIA_PREÇO\".split())\r\n"
      ],
      "execution_count": null,
      "outputs": []
    },
    {
      "cell_type": "code",
      "metadata": {
        "colab": {
          "base_uri": "https://localhost:8080/",
          "height": 456
        },
        "id": "s9t4Jq7Ntkh0",
        "outputId": "56bc5077-bfd0-4b5e-81ff-2e488f572df8"
      },
      "source": [
        "# Gráfico de comparação entre as médias de preço de La Boca e Buenos Aires\r\n",
        "g = sns.catplot(\r\n",
        "    data=dfc, kind=\"bar\",\r\n",
        "    x=[\"Media Buenos Aires\",\"Media La Boca\"], y=\"MEDIA_PREÇO\",hue=\"MEDIA_PREÇO\",\r\n",
        "    ci=\"sd\", palette=\"dark\", alpha=.6, height=6)\r\n",
        "\r\n",
        "g.despine(left=True)\r\n",
        "g.set_axis_labels(\"Comparaçao de médias de preço dos alojamentos do bairro La boca e toda Buenos Aires\", \"PREÇOS MÉDIOS\") ;\r\n"
      ],
      "execution_count": null,
      "outputs": [
        {
          "output_type": "display_data",
          "data": {
            "image/png": "[encoded data removed]",
            "text/plain": [
              "<Figure size 579.375x432 with 1 Axes>"
            ]
          },
          "metadata": {
            "tags": [],
            "needs_background": "light"
          }
        }
      ]
    },
    {
      "cell_type": "markdown",
      "metadata": {
        "id": "mw0uWYzDV2xf"
      },
      "source": [
        "#### Retiro\r\n",
        "Um dos bairros mais bonitos de toda capital. Retiro ganhou esse nome devido à distância do resto da cidade. Com amplas praças e áreas verdes, Retiro pode ser chamada de \"O coração de Buenos Aires\"\r\n",
        "\r\n",
        "<center><img alt=\"Retiro - Buenos Aires\" width=\"50%\" src=\"https://aguiarbuenosaires.com/wp-content/uploads/2018/08/plaza-san-martin5.png\"></center>"
      ]
    },
    {
      "cell_type": "code",
      "metadata": {
        "colab": {
          "base_uri": "https://localhost:8080/",
          "height": 204
        },
        "id": "dJDTg0JAXEeu",
        "outputId": "288c3fa4-3594-42c8-91f6-b2e01413b458"
      },
      "source": [
        "#Construindo um dataset apenas com as informações mais relevantes e apenas com entradas do bairro de \"Retiro\"\r\n",
        "df_retiro=df_clean[['room_type','price','minimum_nights','availability_365','neighbourhood']].query(\"neighbourhood=='Retiro'\").reset_index(drop=True)\r\n",
        "#Primeira impressão do dataset\r\n",
        "df_retiro.head()"
      ],
      "execution_count": null,
      "outputs": [
        {
          "output_type": "execute_result",
          "data": {
            "text/html": [
              "<div>\n",
              "<style scoped>\n",
              "    .dataframe tbody tr th:only-of-type {\n",
              "        vertical-align: middle;\n",
              "    }\n",
              "\n",
              "    .dataframe tbody tr th {\n",
              "        vertical-align: top;\n",
              "    }\n",
              "\n",
              "    .dataframe thead th {\n",
              "        text-align: right;\n",
              "    }\n",
              "</style>\n",
              "<table border=\"1\" class=\"dataframe\">\n",
              "  <thead>\n",
              "    <tr style=\"text-align: right;\">\n",
              "      <th></th>\n",
              "      <th>room_type</th>\n",
              "      <th>price</th>\n",
              "      <th>minimum_nights</th>\n",
              "      <th>availability_365</th>\n",
              "      <th>neighbourhood</th>\n",
              "    </tr>\n",
              "  </thead>\n",
              "  <tbody>\n",
              "    <tr>\n",
              "      <th>0</th>\n",
              "      <td>Entire home/apt</td>\n",
              "      <td>125.02</td>\n",
              "      <td>4</td>\n",
              "      <td>327</td>\n",
              "      <td>Retiro</td>\n",
              "    </tr>\n",
              "    <tr>\n",
              "      <th>1</th>\n",
              "      <td>Entire home/apt</td>\n",
              "      <td>260.48</td>\n",
              "      <td>30</td>\n",
              "      <td>364</td>\n",
              "      <td>Retiro</td>\n",
              "    </tr>\n",
              "    <tr>\n",
              "      <th>2</th>\n",
              "      <td>Entire home/apt</td>\n",
              "      <td>125.02</td>\n",
              "      <td>7</td>\n",
              "      <td>365</td>\n",
              "      <td>Retiro</td>\n",
              "    </tr>\n",
              "    <tr>\n",
              "      <th>3</th>\n",
              "      <td>Private room</td>\n",
              "      <td>75.05</td>\n",
              "      <td>4</td>\n",
              "      <td>88</td>\n",
              "      <td>Retiro</td>\n",
              "    </tr>\n",
              "    <tr>\n",
              "      <th>4</th>\n",
              "      <td>Entire home/apt</td>\n",
              "      <td>286.49</td>\n",
              "      <td>15</td>\n",
              "      <td>145</td>\n",
              "      <td>Retiro</td>\n",
              "    </tr>\n",
              "  </tbody>\n",
              "</table>\n",
              "</div>"
            ],
            "text/plain": [
              "         room_type   price  minimum_nights  availability_365 neighbourhood\n",
              "0  Entire home/apt  125.02               4               327        Retiro\n",
              "1  Entire home/apt  260.48              30               364        Retiro\n",
              "2  Entire home/apt  125.02               7               365        Retiro\n",
              "3     Private room   75.05               4                88        Retiro\n",
              "4  Entire home/apt  286.49              15               145        Retiro"
            ]
          },
          "metadata": {
            "tags": []
          },
          "execution_count": 29
        }
      ]
    },
    {
      "cell_type": "markdown",
      "metadata": {
        "id": "VLDgJojdYbvp"
      },
      "source": [
        "#####Quantidade de alojamentos e disponibilidade\r\n"
      ]
    },
    {
      "cell_type": "code",
      "metadata": {
        "colab": {
          "base_uri": "https://localhost:8080/"
        },
        "id": "854U8KcfYays",
        "outputId": "08ab82f1-a64b-4c0e-fdcf-bddb7a3bc8f1"
      },
      "source": [
        "#Quantidade total de alojamento\r\n",
        "print(\"O bairro de Retiro possui {} de alojamentos\".format(len(df_retiro)))\r\n",
        "#Porcentual de alojamento do bairro Retiro em relação a todo dataset\r\n",
        "x=len(df_retiro)\r\n",
        "y=len(df_clean)\r\n",
        "xy=round((x/y)*100,2)\r\n",
        "print(\"O bairo de Retiro possui {}% dos alojamentos de todo dataset\".format(xy))"
      ],
      "execution_count": null,
      "outputs": [
        {
          "output_type": "stream",
          "text": [
            "O bairro de Retiro possui 1053 de alojamentos\n",
            "O bairo de Retiro possui 5.31% dos alojamentos de todo dataset\n"
          ],
          "name": "stdout"
        }
      ]
    },
    {
      "cell_type": "code",
      "metadata": {
        "colab": {
          "base_uri": "https://localhost:8080/"
        },
        "id": "pqa28p8xZ1ry",
        "outputId": "dcec4730-d02f-4cbd-8171-020185a7ce00"
      },
      "source": [
        "#Disponibilidade de 365 dias no bairro de Retiro\r\n",
        "print(\"Dos {} alojamentos em Retiro, {} estão disponíveis o ano inteiro\".format(len(df_retiro),sum(df_retiro.availability_365 > 299)))\r\n",
        "#Porcentual de disponibilidade anual\r\n",
        "x=sum(df_retiro.availability_365 > 299)\r\n",
        "y=len(df_retiro)\r\n",
        "xy=round((x/y)*100,2)\r\n",
        "print(\"Cerca de {}% dos alojamentos de Retiro estão disponíveis o ano inteiro\".format(xy))\r\n",
        "print(\"\\n obs:consideramos disponíveis o ano inteiro , alojamentos que ficaram 300 dias ou mais disponíveis no ano\")"
      ],
      "execution_count": null,
      "outputs": [
        {
          "output_type": "stream",
          "text": [
            "Dos 1053 alojamentos em Retiro, 458 estão disponíveis o ano inteiro\n",
            "Cerca de 43.49% dos alojamentos de Retiro estão disponíveis o ano inteiro\n",
            "\n",
            " obs:consideramos disponíveis o ano inteiro , alojamentos que ficaram 300 dias ou mais disponíveis no ano\n"
          ],
          "name": "stdout"
        }
      ]
    },
    {
      "cell_type": "code",
      "metadata": {
        "colab": {
          "base_uri": "https://localhost:8080/",
          "height": 369
        },
        "id": "qWaLaVCAaax9",
        "outputId": "fa80d251-b353-4ce0-d746-bffa463d43ab"
      },
      "source": [
        "#Gráfico ilustrando a quantidade casas e sua disponibilidade em dias no ano.\r\n",
        "sns.displot(df_retiro['availability_365'], kde = False,bins=10);"
      ],
      "execution_count": null,
      "outputs": [
        {
          "output_type": "display_data",
          "data": {
            "image/png": "[encoded data removed]",
            "text/plain": [
              "<Figure size 360x360 with 1 Axes>"
            ]
          },
          "metadata": {
            "tags": [],
            "needs_background": "light"
          }
        }
      ]
    },
    {
      "cell_type": "markdown",
      "metadata": {
        "id": "Yni2hqxGarZe"
      },
      "source": [
        "#####Custo dos alojamentos"
      ]
    },
    {
      "cell_type": "code",
      "metadata": {
        "colab": {
          "base_uri": "https://localhost:8080/"
        },
        "id": "SvvpAXjJasQE",
        "outputId": "faa93c01-3f40-4837-e26a-1de74e4de54d"
      },
      "source": [
        "#Alojamento mais caro do bairro Retiro\r\n",
        "print(\"O alojamento mais caro do bairro Retiro se encontra no preço de: R${}\".format(df_retiro.price.max()))\r\n",
        "#Alojamento mais barato do bairro Retiro\r\n",
        "print(\"O alojamento mais barato do bairro Retiro se encontra no preço de: R${}\".format(df_retiro.price.min()))"
      ],
      "execution_count": null,
      "outputs": [
        {
          "output_type": "stream",
          "text": [
            "O alojamento mais caro do bairro Retiro se encontra no preço de: R$989.81\n",
            "O alojamento mais barato do bairro Retiro se encontra no preço de: R$41.65\n"
          ],
          "name": "stdout"
        }
      ]
    },
    {
      "cell_type": "code",
      "metadata": {
        "colab": {
          "base_uri": "https://localhost:8080/"
        },
        "id": "fWXyCHUsa_Mt",
        "outputId": "eb9dcdd1-30a4-4501-b5f9-0b530692551e"
      },
      "source": [
        "#A média de preço dos alojamentos\r\n",
        "print(\"A média de preço dos alojamentos em Retiro é de: R${:.2f}\\n\".format(df_retiro.price.mean()))\r\n",
        "#Comparação com a média de Todo Buenos Aires\r\n",
        "media_preço_ba=df_clean.price.mean()\r\n",
        "if df_retiro.price.mean() > media_preço_ba:\r\n",
        "  print(\"A média de preço de toda Buenos Aires é de: R${:.2f}\".format(media_preço_ba))\r\n",
        "  dif=df_retiro.price.mean() - media_preço_ba\r\n",
        "  per=(dif/media_preço_ba)* 100\r\n",
        "  print(\"Sendo assim, a média em Retiro é {:.2f}% maior em relação a toda cidade.\".format(per))\r\n",
        "else:\r\n",
        "  print(\"A média de preço de toda Buenos Aires é de: R${:.2f}\".format(media_preço_ba))\r\n",
        "  dif=media_preço_ba - df_retiro.price.mean()\r\n",
        "  per=(dif/media_preço_ba)*100\r\n",
        "  print(\"Sendo assim, a média em Retiro é {:.2f}% menor em relação a toda cidade.\".format(per))"
      ],
      "execution_count": null,
      "outputs": [
        {
          "output_type": "stream",
          "text": [
            "A média de preço dos alojamentos em Retiro é de: R$208.91\n",
            "\n",
            "A média de preço de toda Buenos Aires é de: R$194.71\n",
            "Sendo assim, a média em Retiro é 7.29% maior em relação a toda cidade.\n"
          ],
          "name": "stdout"
        }
      ]
    },
    {
      "cell_type": "code",
      "metadata": {
        "id": "3QQPV8WZbdJQ"
      },
      "source": [
        "# Criando um df com as médias de Retiro e Buenos Aires\r\n",
        "lista = []\r\n",
        "lista.append(media_preço_ba)\r\n",
        "lista.append(df_retiro.price.mean())\r\n",
        "dfc=pd.DataFrame(lista,index=\"BUENOS_AIRES RETIRO\".split(),columns=\"MEDIA_PREÇO\".split())"
      ],
      "execution_count": null,
      "outputs": []
    },
    {
      "cell_type": "code",
      "metadata": {
        "id": "CKmAWoBLbmgl",
        "colab": {
          "base_uri": "https://localhost:8080/",
          "height": 456
        },
        "outputId": "6895d427-2c61-47a0-8a8e-de8248cadf60"
      },
      "source": [
        "# Gráfico de comparação entre as médias de Retiro e Buenos Aires\r\n",
        "g = sns.catplot(\r\n",
        "    data=dfc, kind=\"bar\",\r\n",
        "    x=[\"Media Buenos Aires\",\"Media Retiro\"], y=\"MEDIA_PREÇO\",hue=\"MEDIA_PREÇO\",\r\n",
        "    ci=\"sd\", palette=\"dark\", alpha=.6, height=6)\r\n",
        "\r\n",
        "g.despine(left=False)\r\n",
        "g.set_axis_labels(\"Comparaçao de médias de preço dos alojamentos do bairro Retiro e toda Buenos Aires\", \"PREÇOS MÉDIOS\");"
      ],
      "execution_count": null,
      "outputs": [
        {
          "output_type": "display_data",
          "data": {
            "image/png": "[encoded data removed]",
            "text/plain": [
              "<Figure size 578.75x432 with 1 Axes>"
            ]
          },
          "metadata": {
            "tags": [],
            "needs_background": "light"
          }
        }
      ]
    },
    {
      "cell_type": "markdown",
      "metadata": {
        "id": "0uzVHrikcmsT"
      },
      "source": [
        "#### Recoleta\r\n",
        "Repleto de parques, museus, cafés e restaurantes, Recoleta é um dos bairros mais procurados de Buenos Aires. Além de varias atrações, o bairro de Recoleta tem a característica de ser próximo de tudo que interessa.\r\n",
        "\r\n",
        "<center><img alt=\"Recoleta - Buenos Aaires\" width=\"50%\" src=\"https://www.dicasdeviagem.com/wp-content/uploads/2019/07/floralis-generic-1500x1000.jpg\"></center>"
      ]
    },
    {
      "cell_type": "code",
      "metadata": {
        "colab": {
          "base_uri": "https://localhost:8080/",
          "height": 204
        },
        "id": "mSb39_85du9_",
        "outputId": "53a843df-34b7-448c-abda-6c1808d0bbe4"
      },
      "source": [
        "#Construindo um dataset apenas com as informações mais relevantes e apenas com entradas do bairro de \"Recoleta\"\r\n",
        "df_recoleta=df_clean[['room_type','price','minimum_nights','availability_365','neighbourhood']].query(\"neighbourhood=='Recoleta'\").reset_index(drop=True)\r\n",
        "#Primeira impressão do dataset\r\n",
        "df_recoleta.head()"
      ],
      "execution_count": null,
      "outputs": [
        {
          "output_type": "execute_result",
          "data": {
            "text/html": [
              "<div>\n",
              "<style scoped>\n",
              "    .dataframe tbody tr th:only-of-type {\n",
              "        vertical-align: middle;\n",
              "    }\n",
              "\n",
              "    .dataframe tbody tr th {\n",
              "        vertical-align: top;\n",
              "    }\n",
              "\n",
              "    .dataframe thead th {\n",
              "        text-align: right;\n",
              "    }\n",
              "</style>\n",
              "<table border=\"1\" class=\"dataframe\">\n",
              "  <thead>\n",
              "    <tr style=\"text-align: right;\">\n",
              "      <th></th>\n",
              "      <th>room_type</th>\n",
              "      <th>price</th>\n",
              "      <th>minimum_nights</th>\n",
              "      <th>availability_365</th>\n",
              "      <th>neighbourhood</th>\n",
              "    </tr>\n",
              "  </thead>\n",
              "  <tbody>\n",
              "    <tr>\n",
              "      <th>0</th>\n",
              "      <td>Private room</td>\n",
              "      <td>140.65</td>\n",
              "      <td>1</td>\n",
              "      <td>365</td>\n",
              "      <td>Recoleta</td>\n",
              "    </tr>\n",
              "    <tr>\n",
              "      <th>1</th>\n",
              "      <td>Entire home/apt</td>\n",
              "      <td>112.38</td>\n",
              "      <td>2</td>\n",
              "      <td>364</td>\n",
              "      <td>Recoleta</td>\n",
              "    </tr>\n",
              "    <tr>\n",
              "      <th>2</th>\n",
              "      <td>Entire home/apt</td>\n",
              "      <td>450.72</td>\n",
              "      <td>2</td>\n",
              "      <td>365</td>\n",
              "      <td>Recoleta</td>\n",
              "    </tr>\n",
              "    <tr>\n",
              "      <th>3</th>\n",
              "      <td>Entire home/apt</td>\n",
              "      <td>104.19</td>\n",
              "      <td>4</td>\n",
              "      <td>350</td>\n",
              "      <td>Recoleta</td>\n",
              "    </tr>\n",
              "    <tr>\n",
              "      <th>4</th>\n",
              "      <td>Entire home/apt</td>\n",
              "      <td>416.76</td>\n",
              "      <td>7</td>\n",
              "      <td>365</td>\n",
              "      <td>Recoleta</td>\n",
              "    </tr>\n",
              "  </tbody>\n",
              "</table>\n",
              "</div>"
            ],
            "text/plain": [
              "         room_type   price  minimum_nights  availability_365 neighbourhood\n",
              "0     Private room  140.65               1               365      Recoleta\n",
              "1  Entire home/apt  112.38               2               364      Recoleta\n",
              "2  Entire home/apt  450.72               2               365      Recoleta\n",
              "3  Entire home/apt  104.19               4               350      Recoleta\n",
              "4  Entire home/apt  416.76               7               365      Recoleta"
            ]
          },
          "metadata": {
            "tags": []
          },
          "execution_count": 37
        }
      ]
    },
    {
      "cell_type": "markdown",
      "metadata": {
        "id": "GgQntLK5eVcy"
      },
      "source": [
        "#####Quantidade de alojamentos e disponibilidade"
      ]
    },
    {
      "cell_type": "code",
      "metadata": {
        "colab": {
          "base_uri": "https://localhost:8080/"
        },
        "id": "wFX0AbeHea-r",
        "outputId": "aa0c57b3-4148-4a25-ec6e-fa59202e8a81"
      },
      "source": [
        "#Quantidade total de alojamento\r\n",
        "print(\"O bairro Recoleta possui {} de alojamentos\".format(len(df_recoleta)))\r\n",
        "#Porcentual de alojamento do bairro Recoleta em relação a todo dataset\r\n",
        "x=len(df_recoleta)\r\n",
        "y=len(df_clean)\r\n",
        "xy=round((x/y)*100,2)\r\n",
        "print(\"O bairo de Recoleta possui {}% dos alojamentos de todo dataset\".format(xy))"
      ],
      "execution_count": null,
      "outputs": [
        {
          "output_type": "stream",
          "text": [
            "O bairro Recoleta possui 3366 de alojamentos\n",
            "O bairo de Recoleta possui 16.97% dos alojamentos de todo dataset\n"
          ],
          "name": "stdout"
        }
      ]
    },
    {
      "cell_type": "code",
      "metadata": {
        "colab": {
          "base_uri": "https://localhost:8080/"
        },
        "id": "fLxhbXQYfeNK",
        "outputId": "8ae1d3d4-08c0-426a-b0f2-4c1d5f46a800"
      },
      "source": [
        "#Disponibilidade de 365 dias no bairro Recoleta\r\n",
        "print(\"Dos {} alojamento de Recoleta, {} estão disponíveis o ano inteiro\".format(len(df_recoleta),sum(df_recoleta.availability_365 > 299)))\r\n",
        "#Porcentual de disponibilidade anual\r\n",
        "x=sum(df_recoleta.availability_365 > 299)\r\n",
        "y=len(df_recoleta)\r\n",
        "xy=round((x/y)*100,2)\r\n",
        "print(\"Cerca de {}% dos alojamentos em Recoleta estão disponíveis o ano inteiro\".format(xy))\r\n",
        "print(\"\\n obs:consideramos disponíveis o ano inteiro , alojamentos que ficaram 300 dias ou mais disponíveis no ano\")"
      ],
      "execution_count": null,
      "outputs": [
        {
          "output_type": "stream",
          "text": [
            "Dos 3366 alojamento de Recoleta, 1534 estão disponíveis o ano inteiro\n",
            "Cerca de 45.57% dos alojamentos em Recoleta estão disponíveis o ano inteiro\n",
            "\n",
            " obs:consideramos disponíveis o ano inteiro , alojamentos que ficaram 300 dias ou mais disponíveis no ano\n"
          ],
          "name": "stdout"
        }
      ]
    },
    {
      "cell_type": "code",
      "metadata": {
        "colab": {
          "base_uri": "https://localhost:8080/",
          "height": 369
        },
        "id": "-K5STdbmhVaR",
        "outputId": "af539df7-d8ad-44d8-950c-6f7c3b4eaabe"
      },
      "source": [
        "#Gráfico ilustrando a quantidade casas e sua disponibilidade em dias no ano.\r\n",
        "sns.displot(df_recoleta['availability_365'], kde = False,bins=10);"
      ],
      "execution_count": null,
      "outputs": [
        {
          "output_type": "display_data",
          "data": {
            "image/png": "[encoded data removed]",
            "text/plain": [
              "<Figure size 360x360 with 1 Axes>"
            ]
          },
          "metadata": {
            "tags": [],
            "needs_background": "light"
          }
        }
      ]
    },
    {
      "cell_type": "markdown",
      "metadata": {
        "id": "Ea4WzGTQh3uC"
      },
      "source": [
        "#####Custo dos alojamentos\r\n"
      ]
    },
    {
      "cell_type": "code",
      "metadata": {
        "colab": {
          "base_uri": "https://localhost:8080/"
        },
        "id": "_Mr8JCUdh6-t",
        "outputId": "98fa0604-a3be-421b-8c5b-a6fc182b1895"
      },
      "source": [
        "#Alojamento mais caro do bairro Recoleta\r\n",
        "print(\"O alojamento mais caro do bairro Recoleta se encontra no preço de: R${}\".format(df_recoleta.price.max()))\r\n",
        "#Alojamento mais barato do bairro Recoleta\r\n",
        "print(\"O alojamento mais barato do bairro Recoleta se encontra no preço de: R${}\".format(df_recoleta.price.min()))"
      ],
      "execution_count": 62,
      "outputs": [
        {
          "output_type": "stream",
          "text": [
            "O alojamento mais caro do bairro Recoleta se encontra no preço de: R$982.3\n",
            "O alojamento mais barato do bairro Recoleta se encontra no preço de: R$30.77\n"
          ],
          "name": "stdout"
        }
      ]
    },
    {
      "cell_type": "code",
      "metadata": {
        "colab": {
          "base_uri": "https://localhost:8080/"
        },
        "id": "SCvQoK8ckVJB",
        "outputId": "53bba210-9462-4bc4-bb53-5523c2697120"
      },
      "source": [
        "#A média de preço dos alojamentos\r\n",
        "print(\"A média de preço dos alojamentos em Recoleta é de: R${:.2f}\\n\".format(df_recoleta.price.mean()))\r\n",
        "#Comparação com a média de toda Buenos Aires\r\n",
        "media_preço_ba=df_clean.price.mean()\r\n",
        "if df_recoleta.price.mean() > media_preço_ba:\r\n",
        "  print(\"A média de preço de toda Buenos Aires é de: R${:.2f}\".format(media_preço_ba))\r\n",
        "  dif=df_recoleta.price.mean() - media_preço_ba\r\n",
        "  per=(dif/media_preço_ba)* 100\r\n",
        "  print(\"Sendo assim, a média em Recoleta é {:.2f}% maior em relação à toda cidade.\".format(per))\r\n",
        "else:\r\n",
        "  print(\"A média de preço em toda Buenos Aires é de: R${:.2f}\".format(media_preço_ba))\r\n",
        "  dif=media_preço_ba - df_recoleta.price.mean()\r\n",
        "  per=(dif/media_preço_ba)*100\r\n",
        "  print(\"Sendo assim, a média em Recoleta é {:.2f}% menor em relação a toda cidade.\".format(per))"
      ],
      "execution_count": null,
      "outputs": [
        {
          "output_type": "stream",
          "text": [
            "A média de preço dos alojamentos em Recoleta é de: R$212.21\n",
            "\n",
            "A média de preço de toda Buenos Aires é de: R$194.71\n",
            "Sendo assim, a média em Recoleta é 8.99% maior em relação à toda cidade.\n"
          ],
          "name": "stdout"
        }
      ]
    },
    {
      "cell_type": "code",
      "metadata": {
        "id": "ijwl17_8k09V"
      },
      "source": [
        "# Criando um df com as médias de preço de Recoleta e Buenos Aires\r\n",
        "lista = []\r\n",
        "lista.append(media_preço_ba)\r\n",
        "lista.append(df_recoleta.price.mean())\r\n",
        "dfc=pd.DataFrame(lista,index=\"BUENOS_AIRES RECOLETA\".split(),columns=\"MEDIA_PREÇO\".split())"
      ],
      "execution_count": null,
      "outputs": []
    },
    {
      "cell_type": "code",
      "metadata": {
        "colab": {
          "base_uri": "https://localhost:8080/",
          "height": 456
        },
        "id": "Je_4b5cBk8WW",
        "outputId": "e7aa5a6f-be51-4952-b1c0-df49c87b2e35"
      },
      "source": [
        "# Gráfico de comparação entre as médias de preço de Recoleta e Buenos Aires\r\n",
        "g = sns.catplot(\r\n",
        "    data=dfc, kind=\"bar\",\r\n",
        "    x=[\"Media Buenos Aires\",\"Media Recoleta\"], y=\"MEDIA_PREÇO\",hue=\"MEDIA_PREÇO\",\r\n",
        "    ci=\"sd\", palette=\"dark\", alpha=.6, height=6)\r\n",
        "\r\n",
        "g.despine(left=True)\r\n",
        "g.set_axis_labels(\"Comparaçao de médias de preço dos alojamentos do bairro Recoleta e toda Buenos Aires\", \"PREÇOS MÉDIOS\") ;"
      ],
      "execution_count": null,
      "outputs": [
        {
          "output_type": "display_data",
          "data": {
            "image/png": "[encoded data removed]",
            "text/plain": [
              "<Figure size 578.75x432 with 1 Axes>"
            ]
          },
          "metadata": {
            "tags": [],
            "needs_background": "light"
          }
        }
      ]
    },
    {
      "cell_type": "markdown",
      "metadata": {
        "id": "QWHMVr9Zlkn0"
      },
      "source": [
        "#### Palermo\r\n",
        "O maior bairro da capital, reune áreas verdes, cultura, tradição e diversão. Em Palermo os turistas encontram uma mistura de casas residenciaos e uma grande área comercial.\r\n",
        "\r\n",
        "<center><img alt=\"Palermo - Buenos Aires\" width=\"50%\" src=\"https://aguiarbuenosaires.com/wp-content/uploads/2016/01/2_Palermo-800x535.jpg\"></center>"
      ]
    },
    {
      "cell_type": "code",
      "metadata": {
        "colab": {
          "base_uri": "https://localhost:8080/",
          "height": 204
        },
        "id": "RxsrUn7kmbuK",
        "outputId": "680abfc3-e513-41f4-bea2-7b408262003f"
      },
      "source": [
        "#Construindo um dataset apenas com as informações mais relevantes e apenas com entradas do bairro de \"Palermo\"\r\n",
        "df_palermo=df_clean[['room_type','price','minimum_nights','availability_365','neighbourhood']].query(\"neighbourhood=='Palermo'\").reset_index(drop=True)\r\n",
        "#Primeira impressão do dataset\r\n",
        "df_palermo.head()"
      ],
      "execution_count": null,
      "outputs": [
        {
          "output_type": "execute_result",
          "data": {
            "text/html": [
              "<div>\n",
              "<style scoped>\n",
              "    .dataframe tbody tr th:only-of-type {\n",
              "        vertical-align: middle;\n",
              "    }\n",
              "\n",
              "    .dataframe tbody tr th {\n",
              "        vertical-align: top;\n",
              "    }\n",
              "\n",
              "    .dataframe thead th {\n",
              "        text-align: right;\n",
              "    }\n",
              "</style>\n",
              "<table border=\"1\" class=\"dataframe\">\n",
              "  <thead>\n",
              "    <tr style=\"text-align: right;\">\n",
              "      <th></th>\n",
              "      <th>room_type</th>\n",
              "      <th>price</th>\n",
              "      <th>minimum_nights</th>\n",
              "      <th>availability_365</th>\n",
              "      <th>neighbourhood</th>\n",
              "    </tr>\n",
              "  </thead>\n",
              "  <tbody>\n",
              "    <tr>\n",
              "      <th>0</th>\n",
              "      <td>Entire home/apt</td>\n",
              "      <td>312.57</td>\n",
              "      <td>2</td>\n",
              "      <td>0</td>\n",
              "      <td>Palermo</td>\n",
              "    </tr>\n",
              "    <tr>\n",
              "      <th>1</th>\n",
              "      <td>Private room</td>\n",
              "      <td>156.29</td>\n",
              "      <td>1</td>\n",
              "      <td>365</td>\n",
              "      <td>Palermo</td>\n",
              "    </tr>\n",
              "    <tr>\n",
              "      <th>2</th>\n",
              "      <td>Private room</td>\n",
              "      <td>156.29</td>\n",
              "      <td>1</td>\n",
              "      <td>365</td>\n",
              "      <td>Palermo</td>\n",
              "    </tr>\n",
              "    <tr>\n",
              "      <th>3</th>\n",
              "      <td>Private room</td>\n",
              "      <td>156.29</td>\n",
              "      <td>1</td>\n",
              "      <td>0</td>\n",
              "      <td>Palermo</td>\n",
              "    </tr>\n",
              "    <tr>\n",
              "      <th>4</th>\n",
              "      <td>Private room</td>\n",
              "      <td>208.38</td>\n",
              "      <td>1</td>\n",
              "      <td>365</td>\n",
              "      <td>Palermo</td>\n",
              "    </tr>\n",
              "  </tbody>\n",
              "</table>\n",
              "</div>"
            ],
            "text/plain": [
              "         room_type   price  minimum_nights  availability_365 neighbourhood\n",
              "0  Entire home/apt  312.57               2                 0       Palermo\n",
              "1     Private room  156.29               1               365       Palermo\n",
              "2     Private room  156.29               1               365       Palermo\n",
              "3     Private room  156.29               1                 0       Palermo\n",
              "4     Private room  208.38               1               365       Palermo"
            ]
          },
          "metadata": {
            "tags": []
          },
          "execution_count": 45
        }
      ]
    },
    {
      "cell_type": "markdown",
      "metadata": {
        "id": "D8cn6m33mvHe"
      },
      "source": [
        "#####Quantidade de alojamentos e disponibilidade"
      ]
    },
    {
      "cell_type": "code",
      "metadata": {
        "colab": {
          "base_uri": "https://localhost:8080/"
        },
        "id": "SHMz-81pmxmP",
        "outputId": "2d772254-6c08-4c0e-dac6-af4e0aa777ba"
      },
      "source": [
        "#Quantidade total de alojamento\r\n",
        "print(\"O bairro de Palermo possui {} de alojamentos\".format(len(df_palermo)))\r\n",
        "#Porcentual de alojamento do bairro Palermo em relação a todo dataset\r\n",
        "x=len(df_palermo)\r\n",
        "y=len(df_clean)\r\n",
        "xy=round((x/y)*100,2)\r\n",
        "print(\"O bairo de Palermo possui {}% dos alojamentos de todo dataset\".format(xy))"
      ],
      "execution_count": null,
      "outputs": [
        {
          "output_type": "stream",
          "text": [
            "O bairro de Palermo possui 6081 de alojamentos\n",
            "O bairo de Palermo possui 30.65% dos alojamentos de todo dataset\n"
          ],
          "name": "stdout"
        }
      ]
    },
    {
      "cell_type": "code",
      "metadata": {
        "colab": {
          "base_uri": "https://localhost:8080/"
        },
        "id": "1C_eTaX0nD43",
        "outputId": "bd5cff64-1efa-48df-cf69-2ca8193e141f"
      },
      "source": [
        "#Disponibilidade de 365 dias no bairro Palermo\r\n",
        "print(\"Dos {} alojamentos em Palermo, {} estão disponíveis o ano inteiro\".format(len(df_palermo),sum(df_palermo.availability_365 > 299)))\r\n",
        "#Porcentual de disponibilidade anual\r\n",
        "x=sum(df_palermo.availability_365 > 299)\r\n",
        "y=len(df_palermo)\r\n",
        "xy=round((x/y)*100,2)\r\n",
        "print(\"Cerca de {}% dos alojamentos de Palermo estão disponíveis o ano inteiro\".format(xy))\r\n",
        "print(\"\\n obs:consideramos disponíveis o ano inteiro , alojamentos que ficaram 300 dias ou mais disponíveis no ano\")"
      ],
      "execution_count": null,
      "outputs": [
        {
          "output_type": "stream",
          "text": [
            "Dos 6081 alojamentos em Palermo, 2779 estão disponíveis o ano inteiro\n",
            "Cerca de 45.7% dos alojamentos de Palermo estão disponíveis o ano inteiro\n",
            "\n",
            " obs:consideramos disponíveis o ano inteiro , alojamentos que ficaram 300 dias ou mais disponíveis no ano\n"
          ],
          "name": "stdout"
        }
      ]
    },
    {
      "cell_type": "code",
      "metadata": {
        "colab": {
          "base_uri": "https://localhost:8080/",
          "height": 369
        },
        "id": "mBe0DbTVnWbm",
        "outputId": "4559411d-d615-42b8-8fcb-b384235fff8a"
      },
      "source": [
        "#Gráfico ilustrando a quantidade casas e sua disponibilidade em dias no ano.\r\n",
        "sns.displot(df_palermo['availability_365'], kde = False,bins=10);"
      ],
      "execution_count": null,
      "outputs": [
        {
          "output_type": "display_data",
          "data": {
            "image/png": "[encoded data removed]",
            "text/plain": [
              "<Figure size 360x360 with 1 Axes>"
            ]
          },
          "metadata": {
            "tags": [],
            "needs_background": "light"
          }
        }
      ]
    },
    {
      "cell_type": "markdown",
      "metadata": {
        "id": "JVBM1rsSnuOt"
      },
      "source": [
        "#####Custo dos alojamentos"
      ]
    },
    {
      "cell_type": "code",
      "metadata": {
        "colab": {
          "base_uri": "https://localhost:8080/"
        },
        "id": "0-RWX2l9nwgV",
        "outputId": "b821e56f-b298-48e4-abd2-1f512a5a018d"
      },
      "source": [
        "#Alojamento mais caro do bairro Palermo\r\n",
        "print(\"O alojamento mais caro do bairro Palermo se encontra no preço de: R${}\".format(df_palermo.price.max()))\r\n",
        "#Alojamento mais barato do bairro Palermo\r\n",
        "print(\"O alojamento mais barato do bairro Palermo se encontra no preço de: R${}\".format(df_palermo.price.min()))"
      ],
      "execution_count": null,
      "outputs": [
        {
          "output_type": "stream",
          "text": [
            "O alojamento mais caro do bairro Palermo se encontra no preço de: R$995.0\n",
            "O alojamento mais barato do bairro Palermo se encontra no preço de: R$30.02\n"
          ],
          "name": "stdout"
        }
      ]
    },
    {
      "cell_type": "code",
      "metadata": {
        "colab": {
          "base_uri": "https://localhost:8080/"
        },
        "id": "hx7A_gy-oLXU",
        "outputId": "01cd3b0d-85ee-4bd4-eb10-7b865dc7872f"
      },
      "source": [
        "#A média de preço dos alojamentos\r\n",
        "print(\"A média de preço dos alojamentos em Palermo é de: R${:.2f}\\n\".format(df_palermo.price.mean()))\r\n",
        "#Comparação com a média de Todo Buenos Aires\r\n",
        "media_preço_ba=df_clean.price.mean()\r\n",
        "if df_palermo.price.mean() > media_preço_ba:\r\n",
        "  print(\"A média de preço de toda Buenos Aires é de: R${:.2f}\".format(media_preço_ba))\r\n",
        "  dif=df_palermo.price.mean() - media_preço_ba\r\n",
        "  per=(dif/media_preço_ba)* 100\r\n",
        "  print(\"Sendo assim, a média em palermo é {:.2f}% maior em relação a toda cidade.\".format(per))\r\n",
        "else:\r\n",
        "  print(\"A média de preço de toda Buenos Aires é de: R${:.2f}\".format(media_preço_ba))\r\n",
        "  dif=media_preço_ba - df_palermo.price.mean()\r\n",
        "  per=(dif/media_preço_ba)*100\r\n",
        "  print(\"Sendo assim, a média em Palermo é {:.2f}% menor em relação a toda cidade.\".format(per))"
      ],
      "execution_count": null,
      "outputs": [
        {
          "output_type": "stream",
          "text": [
            "A média de preço dos alojamentos em Palermo é de: R$225.94\n",
            "\n",
            "A média de preço de toda Buenos Aires é de: R$194.71\n",
            "Sendo assim, a média em palermo é 16.04% maior em relação a toda cidade.\n"
          ],
          "name": "stdout"
        }
      ]
    },
    {
      "cell_type": "code",
      "metadata": {
        "id": "32vvQdcRon6K"
      },
      "source": [
        "# Criando um df com as médias de Palermo e Buenos Aires\r\n",
        "lista = []\r\n",
        "lista.append(media_preço_ba)\r\n",
        "lista.append(df_palermo.price.mean())\r\n",
        "dfc=pd.DataFrame(lista,index=\"BUENOS_AIRES PALERMO\".split(),columns=\"MEDIA_PREÇO\".split())"
      ],
      "execution_count": null,
      "outputs": []
    },
    {
      "cell_type": "code",
      "metadata": {
        "colab": {
          "base_uri": "https://localhost:8080/",
          "height": 456
        },
        "id": "UaCs6YNAoy4j",
        "outputId": "ca1a730c-8827-4448-ae51-480533fa1d63"
      },
      "source": [
        "# Gráfico de comparação entre as médias de Palermo e Buenos Aires\r\n",
        "g = sns.catplot(\r\n",
        "    data=dfc, kind=\"bar\",\r\n",
        "    x=[\"Media Buenos Aires\",\"Media Palermo\"], y=\"MEDIA_PREÇO\",hue=\"MEDIA_PREÇO\",\r\n",
        "    ci=\"sd\", palette=\"dark\", alpha=.6, height=6)\r\n",
        "\r\n",
        "g.despine(left=False)\r\n",
        "g.set_axis_labels(\"Comparaçao de médias de preço dos alojamentos do bairro Palermo e toda Buenos Aires\", \"PREÇOS MÉDIOS\");"
      ],
      "execution_count": null,
      "outputs": [
        {
          "output_type": "display_data",
          "data": {
            "image/png": "[encoded data removed]",
            "text/plain": [
              "<Figure size 578.75x432 with 1 Axes>"
            ]
          },
          "metadata": {
            "tags": [],
            "needs_background": "light"
          }
        }
      ]
    },
    {
      "cell_type": "markdown",
      "metadata": {
        "id": "9h2nwJI7pHNU"
      },
      "source": [
        "#### Puerto Madero\r\n",
        "\r\n",
        "Já citado aqui como o bairro mais caro da capital, Puerto Madero recebeu em 1990 um grande projeto de reubarnização e se tornou um lugar muito moderno e luxuoso.\r\n",
        "\r\n",
        "<center><img alt=\"Puerto Madero - Buenos Aires\" width=\"50%\" src=\"https://aguiarbuenosaires.com/wp-content/uploads/2019/06/puerto_madero_paseo-del-bajo-800x417.jpg\"></center>"
      ]
    },
    {
      "cell_type": "code",
      "metadata": {
        "colab": {
          "base_uri": "https://localhost:8080/",
          "height": 204
        },
        "id": "P-sJY41QqF5g",
        "outputId": "5fa4f063-c4f5-48b1-ae4d-2dd3d667ef55"
      },
      "source": [
        "#Construindo um dataset apenas com as informações mais relevantes e apenas com entradas do bairro de \"Puerto Madero\"\r\n",
        "df_puertomadero=df_clean[['room_type','price','minimum_nights','availability_365','neighbourhood']].query(\"neighbourhood=='Puerto Madero'\").reset_index(drop=True)\r\n",
        "#Primeira impressão do dataset\r\n",
        "df_puertomadero.head()"
      ],
      "execution_count": null,
      "outputs": [
        {
          "output_type": "execute_result",
          "data": {
            "text/html": [
              "<div>\n",
              "<style scoped>\n",
              "    .dataframe tbody tr th:only-of-type {\n",
              "        vertical-align: middle;\n",
              "    }\n",
              "\n",
              "    .dataframe tbody tr th {\n",
              "        vertical-align: top;\n",
              "    }\n",
              "\n",
              "    .dataframe thead th {\n",
              "        text-align: right;\n",
              "    }\n",
              "</style>\n",
              "<table border=\"1\" class=\"dataframe\">\n",
              "  <thead>\n",
              "    <tr style=\"text-align: right;\">\n",
              "      <th></th>\n",
              "      <th>room_type</th>\n",
              "      <th>price</th>\n",
              "      <th>minimum_nights</th>\n",
              "      <th>availability_365</th>\n",
              "      <th>neighbourhood</th>\n",
              "    </tr>\n",
              "  </thead>\n",
              "  <tbody>\n",
              "    <tr>\n",
              "      <th>0</th>\n",
              "      <td>Entire home/apt</td>\n",
              "      <td>571.36</td>\n",
              "      <td>5</td>\n",
              "      <td>267</td>\n",
              "      <td>Puerto Madero</td>\n",
              "    </tr>\n",
              "    <tr>\n",
              "      <th>1</th>\n",
              "      <td>Entire home/apt</td>\n",
              "      <td>138.40</td>\n",
              "      <td>5</td>\n",
              "      <td>143</td>\n",
              "      <td>Puerto Madero</td>\n",
              "    </tr>\n",
              "    <tr>\n",
              "      <th>2</th>\n",
              "      <td>Entire home/apt</td>\n",
              "      <td>156.29</td>\n",
              "      <td>3</td>\n",
              "      <td>119</td>\n",
              "      <td>Puerto Madero</td>\n",
              "    </tr>\n",
              "    <tr>\n",
              "      <th>3</th>\n",
              "      <td>Entire home/apt</td>\n",
              "      <td>615.76</td>\n",
              "      <td>7</td>\n",
              "      <td>177</td>\n",
              "      <td>Puerto Madero</td>\n",
              "    </tr>\n",
              "    <tr>\n",
              "      <th>4</th>\n",
              "      <td>Entire home/apt</td>\n",
              "      <td>364.67</td>\n",
              "      <td>1</td>\n",
              "      <td>114</td>\n",
              "      <td>Puerto Madero</td>\n",
              "    </tr>\n",
              "  </tbody>\n",
              "</table>\n",
              "</div>"
            ],
            "text/plain": [
              "         room_type   price  minimum_nights  availability_365  neighbourhood\n",
              "0  Entire home/apt  571.36               5               267  Puerto Madero\n",
              "1  Entire home/apt  138.40               5               143  Puerto Madero\n",
              "2  Entire home/apt  156.29               3               119  Puerto Madero\n",
              "3  Entire home/apt  615.76               7               177  Puerto Madero\n",
              "4  Entire home/apt  364.67               1               114  Puerto Madero"
            ]
          },
          "metadata": {
            "tags": []
          },
          "execution_count": 53
        }
      ]
    },
    {
      "cell_type": "markdown",
      "metadata": {
        "id": "BMnAnMs2qW9a"
      },
      "source": [
        "#####Quantidade de alojamentos e disponibilidade"
      ]
    },
    {
      "cell_type": "code",
      "metadata": {
        "colab": {
          "base_uri": "https://localhost:8080/"
        },
        "id": "n5xKFURuqYsY",
        "outputId": "5aa38066-a05a-4442-d4c7-105fe3c62477"
      },
      "source": [
        "#Quantidade total de alojamento\r\n",
        "print(\"O bairro Puerto Madero possui {} de alojamentos\".format(len(df_puertomadero)))\r\n",
        "#Porcentual de alojamento do bairro Puerto Madero em relação a todo dataset\r\n",
        "x=len(df_puertomadero)\r\n",
        "y=len(df_clean)\r\n",
        "xy=round((x/y)*100,2)\r\n",
        "print(\"O bairo de Puerto Madero possui {}% dos alojamentos de todo dataset\".format(xy))"
      ],
      "execution_count": null,
      "outputs": [
        {
          "output_type": "stream",
          "text": [
            "O bairro Puerto Madero possui 217 de alojamentos\n",
            "O bairo de Puerto Madero possui 1.09% dos alojamentos de todo dataset\n"
          ],
          "name": "stdout"
        }
      ]
    },
    {
      "cell_type": "code",
      "metadata": {
        "colab": {
          "base_uri": "https://localhost:8080/"
        },
        "id": "j5oL478Hqs4P",
        "outputId": "7ef07841-3400-4ddc-86de-2ebb26680806"
      },
      "source": [
        "#Disponibilidade de 365 dias no bairro Puerto Madero\r\n",
        "print(\"Dos {} alojamento de Puerto Madero, {} estão disponíveis o ano inteiro\".format(len(df_puertomadero),sum(df_puertomadero.availability_365 > 299)))\r\n",
        "#Porcentual de disponibilidade anual\r\n",
        "x=sum(df_puertomadero.availability_365 > 299)\r\n",
        "y=len(df_puertomadero)\r\n",
        "xy=round((x/y)*100,2)\r\n",
        "print(\"Cerca de {}% dos alojamentos em Puerto Madero estão disponíveis o ano inteiro\".format(xy))\r\n",
        "print(\"\\n obs:consideramos disponíveis o ano inteiro , alojamentos que ficaram 300 dias ou mais disponíveis no ano\")"
      ],
      "execution_count": null,
      "outputs": [
        {
          "output_type": "stream",
          "text": [
            "Dos 217 alojamento de Puerto Madero, 83 estão disponíveis o ano inteiro\n",
            "Cerca de 38.25% dos alojamentos em Puerto Madero estão disponíveis o ano inteiro\n",
            "\n",
            " obs:consideramos disponíveis o ano inteiro , alojamentos que ficaram 300 dias ou mais disponíveis no ano\n"
          ],
          "name": "stdout"
        }
      ]
    },
    {
      "cell_type": "code",
      "metadata": {
        "colab": {
          "base_uri": "https://localhost:8080/",
          "height": 369
        },
        "id": "-fGqmNGMrHg8",
        "outputId": "24ea5d73-ecc8-4e4b-c792-3756ae74e393"
      },
      "source": [
        "#Gráfico ilustrando a quantidade casas e sua disponibilidade em dias no ano.\r\n",
        "sns.displot(df_puertomadero['availability_365'], kde = False,bins=10);"
      ],
      "execution_count": null,
      "outputs": [
        {
          "output_type": "display_data",
          "data": {
            "image/png": "[encoded data removed]",
            "text/plain": [
              "<Figure size 360x360 with 1 Axes>"
            ]
          },
          "metadata": {
            "tags": [],
            "needs_background": "light"
          }
        }
      ]
    },
    {
      "cell_type": "markdown",
      "metadata": {
        "id": "KL0nr3bQrP4b"
      },
      "source": [
        "#####Custo dos alojamentos"
      ]
    },
    {
      "cell_type": "code",
      "metadata": {
        "colab": {
          "base_uri": "https://localhost:8080/"
        },
        "id": "uo4wJ6sIrVWB",
        "outputId": "e6f4792a-5ca5-4091-d1e8-ca87edc1ac0b"
      },
      "source": [
        "#Alojamento mais caro do bairro Puerto Madero\r\n",
        "print(\"O alojamento mais caro do bairro Puerto Madero se encontra no preço de: R${}\".format(df_puertomadero.price.max()))\r\n",
        "#Alojamento mais barato do bairro Puerto Madero\r\n",
        "print(\"O alojamento mais barato do bairro Puerto Madero se encontra no preço de: R${}\".format(df_puertomadero.price.min()))"
      ],
      "execution_count": null,
      "outputs": [
        {
          "output_type": "stream",
          "text": [
            "O alojamento mais caro do bairro Puerto Madero se encontra no preço de: R$984.55\n",
            "O alojamento mais barato do bairro Puerto Madero se encontra no preço de: R$52.1\n"
          ],
          "name": "stdout"
        }
      ]
    },
    {
      "cell_type": "code",
      "metadata": {
        "colab": {
          "base_uri": "https://localhost:8080/"
        },
        "id": "_zhbrFferqJt",
        "outputId": "b0b70d27-6dc4-4513-9bd5-db4aa09e52d9"
      },
      "source": [
        "#A média de preço dos alojamentos\r\n",
        "print(\"A média de preço dos alojamentos em Puerto Madero é de: R${:.2f}\\n\".format(df_puertomadero.price.mean()))\r\n",
        "#Comparação com a média de toda Puerto Madero\r\n",
        "media_preço_ba=df_clean.price.mean()\r\n",
        "if df_puertomadero.price.mean() > media_preço_ba:\r\n",
        "  print(\"A média de preço de toda Buenos Aires é de: R${:.2f}\".format(media_preço_ba))\r\n",
        "  dif=df_puertomadero.price.mean() - media_preço_ba\r\n",
        "  per=(dif/media_preço_ba)* 100\r\n",
        "  print(\"Sendo assim, a média em Puerto Madero é {:.2f}% maior em relação à toda cidade.\".format(per))\r\n",
        "else:\r\n",
        "  print(\"A média de preço em toda Buenos Aires é de: R${:.2f}\".format(media_preço_ba))\r\n",
        "  dif=media_preço_ba - df_puertomadero.price.mean()\r\n",
        "  per=(dif/media_preço_ba)*100\r\n",
        "  print(\"Sendo assim, a média em Puerto Madero é {:.2f}% menor em relação a toda cidade.\".format(per))"
      ],
      "execution_count": null,
      "outputs": [
        {
          "output_type": "stream",
          "text": [
            "A média de preço dos alojamentos em Puerto Madero é de: R$436.43\n",
            "\n",
            "A média de preço de toda Buenos Aires é de: R$194.71\n",
            "Sendo assim, a média em Puerto Madero é 124.15% maior em relação à toda cidade.\n"
          ],
          "name": "stdout"
        }
      ]
    },
    {
      "cell_type": "code",
      "metadata": {
        "id": "u8iZTsoOsCGC"
      },
      "source": [
        "# Criando um df com as médias de preço de Puerto Madero e Buenos Aires\r\n",
        "lista = []\r\n",
        "lista.append(media_preço_ba)\r\n",
        "lista.append(df_puertomadero.price.mean())\r\n",
        "dfc=pd.DataFrame(lista,index=\"BUENOS_AIRES PUERTO_MADERO\".split(),columns=\"MEDIA_PREÇO\".split())"
      ],
      "execution_count": null,
      "outputs": []
    },
    {
      "cell_type": "code",
      "metadata": {
        "colab": {
          "base_uri": "https://localhost:8080/",
          "height": 456
        },
        "id": "s6iQVSLHsN70",
        "outputId": "dd68dee8-e877-4458-d8c3-5ee59a44f081"
      },
      "source": [
        "# Gráfico de comparação entre as médias de preço de Puerto Madero e Buenos Aires\r\n",
        "g = sns.catplot(\r\n",
        "    data=dfc, kind=\"bar\",\r\n",
        "    x=[\"Media Buenos Aires\",\"Media Puerto Madero\"], y=\"MEDIA_PREÇO\",hue=\"MEDIA_PREÇO\",\r\n",
        "    ci=\"sd\", palette=\"dark\", alpha=.6, height=6)\r\n",
        "\r\n",
        "g.despine(left=True)\r\n",
        "g.set_axis_labels(\"Comparaçao de médias de preço dos alojamentos do bairro Puerto Madero e toda Buenos Aires\", \"PREÇOS MÉDIOS\") ;"
      ],
      "execution_count": null,
      "outputs": [
        {
          "output_type": "display_data",
          "data": {
            "image/png": "[encoded data removed]",
            "text/plain": [
              "<Figure size 578.75x432 with 1 Axes>"
            ]
          },
          "metadata": {
            "tags": [],
            "needs_background": "light"
          }
        }
      ]
    },
    {
      "cell_type": "markdown",
      "metadata": {
        "id": "HLRWeDhW1-Eb"
      },
      "source": [
        "#Conclusão\r\n",
        "\r\n",
        "Após das análises feitas no *dataset*, é possivel concluir que o AirBnB está bem presente em Buenos Aires. Com seus 20636 alojamentos espalhados por Buenos Aires, o portal se mostra uma grande opção para turistas que querem conhecer a capital argentina.\r\n",
        "\r\n",
        "A variadade de preços (dependendo do bairro) também chama atenção após a análise. Com menos de 100 reais é possivel passar uma noite em Buenos Aires atraves do AirBnB, e por outro lado, com opções mais luxuosas existem bairros onde o valor ultrapassa a faixa de 400 reais.\r\n",
        "\r\n",
        "A quantidade de imóveis disponíveis por todo ano beira o 50%, o que leva a crer, que a outra metade trabalha apenas com temporadas festivas ou épocas mais procuradas.\r\n",
        "\r\n",
        "Por fim, apesar da necessidade de remoção de *outliers*, o conjunto de dados se mostrou muito bem estruturado e agradável de trabalhar. Toda ánalise foi feita com cunho de aprendizado sem ligação com nenhuma companhia\r\n",
        "\r\n"
      ]
    }
  ]
}